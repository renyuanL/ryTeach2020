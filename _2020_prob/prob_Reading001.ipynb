{
 "cells": [
  {
   "cell_type": "markdown",
   "metadata": {},
   "source": [
    "68–95–99.7 rule\n",
    "====\n",
    "https://en.wikipedia.org/wiki/68%E2%80%9395%E2%80%9399.7_rule\n",
    "\n"
   ]
  },
  {
   "cell_type": "markdown",
   "metadata": {},
   "source": [
    "- In statistics, the 【68–95–99.7】 rule, \n",
    "- also known as the empirical rule, \n",
    "- is a shorthand used to remember the percentage of values \n",
    "- that lie within a band around the mean in a normal distribution \n",
    "- with a width of two, four and six standard deviations, respectively; \n",
    "- more accurately, \n",
    "- 68.27%, 95.45% and 99.73% of the values \n",
    "- lie within 1, 2 and 3 standard deviations of the mean, respectively.\n",
    "- \n",
    "    * 在統計中，68–95–99.7規則（也稱為經驗規則）是一種簡寫形式，\n",
    "    * 用於記住寬度為2、4和6的正態分佈中均值周圍的帶內值的百分比 偏差； \n",
    "    * 更準確地說，這些值的68.27％，95.45％和99.73％\n",
    "    * 分別位於平均值的 1 ， 2 和 3 個標準差之內。\n",
    "\n",
    "![](https://wikimedia.org/api/rest_v1/media/math/render/svg/7d77a583313359c3719a78401a7c3cb1ea3ce405)\n",
    "\n",
    "![](https://upload.wikimedia.org/wikipedia/commons/thumb/2/22/Empirical_rule_histogram.svg/450px-Empirical_rule_histogram.svg.png)\n",
    "\n",
    "\n"
   ]
  },
  {
   "cell_type": "code",
   "execution_count": 1,
   "metadata": {},
   "outputs": [],
   "source": [
    "import numpy as np\n",
    "import scipy.stats as st\n",
    "import matplotlib.pyplot as pl\n",
    "import pandas as pd\n"
   ]
  },
  {
   "cell_type": "code",
   "execution_count": 2,
   "metadata": {},
   "outputs": [
    {
     "data": {
      "text/plain": [
       "array([0.0013499 , 0.02275013, 0.15865525, 0.5       ])"
      ]
     },
     "execution_count": 2,
     "metadata": {},
     "output_type": "execute_result"
    }
   ],
   "source": [
    "st.norm.cdf(x=[-3,-2,-1,0])"
   ]
  },
  {
   "cell_type": "code",
   "execution_count": 23,
   "metadata": {},
   "outputs": [
    {
     "data": {
      "text/plain": [
       "array([-3.09023231, -2.5758293 , -2.32634787, -1.95996398, -1.64485363])"
      ]
     },
     "execution_count": 23,
     "metadata": {},
     "output_type": "execute_result"
    }
   ],
   "source": [
    "st.norm.ppf(q=[.001, .005, .01, .025, .05])\n"
   ]
  },
  {
   "cell_type": "code",
   "execution_count": 25,
   "metadata": {},
   "outputs": [
    {
     "data": {
      "text/plain": [
       "array([0.001, 0.005, 0.01 , 0.025, 0.049])"
      ]
     },
     "execution_count": 25,
     "metadata": {},
     "output_type": "execute_result"
    }
   ],
   "source": [
    "# Prob(\"X <= x\" |(given that) X is normal, mu=0, sigma=1)\n",
    "cdf= st.norm.cdf(x=[-3.10, -2.58, -2.33, -1.96, -1.65])\n",
    "np.round(cdf, decimals=3)\n"
   ]
  },
  {
   "cell_type": "code",
   "execution_count": null,
   "metadata": {},
   "outputs": [],
   "source": []
  },
  {
   "cell_type": "markdown",
   "metadata": {},
   "source": [
    "$ x_.025 = 1.96, $\n",
    "\n",
    "$\n",
    "P(\"-x_.025\\le X \\le x_.025\") \n",
    "= \n",
    "1 -  P(\"X \\le -x_.025\") - P(\"X \\ge +x_.025\") \n",
    "= 1 - .025 - .025\n",
    "= 0.95\n",
    "$\n",
    "\n",
    "$ x_.005 = 2.58, $\n",
    "\n",
    "$\n",
    "P(\"-x_.005\\le X \\le x_.005\") \n",
    "= 0.99\n",
    "$"
   ]
  },
  {
   "cell_type": "markdown",
   "metadata": {},
   "source": [
    "$$\n",
    "P(\"-x_0\\le X \\le x_0\") \n",
    "= 1 - ( P(\"X \\le -x_0\") \n",
    "      + P(\"X \\ge +x_0\") ) \n",
    "= 0.95\n",
    "$$"
   ]
  },
  {
   "cell_type": "markdown",
   "metadata": {},
   "source": [
    "$$\n",
    "E= \n",
    "\\frac\n",
    " {m \\space c^2}\n",
    " {\\sqrt\n",
    "   {1-\\frac\n",
    "       {v^2}\n",
    "       {c^2}\n",
    "   }\n",
    " }\n",
    "$$"
   ]
  },
  {
   "cell_type": "markdown",
   "metadata": {},
   "source": [
    "$$\n",
    "\\left(\n",
    " \\left(  \n",
    "   \\frac{ N } \n",
    "        { \\left(\n",
    "            \\frac{L}\n",
    "                 {p} \n",
    "          \\right)  \n",
    "          - (m+n)}  \n",
    " \\right)\n",
    "\\right)\n",
    "$$"
   ]
  },
  {
   "cell_type": "markdown",
   "metadata": {},
   "source": [
    "You can use \n",
    "$$\\LaTeX$$ \n",
    "to typeset formulas. \n",
    "\n",
    "A formula can be displayed inline, \n",
    "e.g. \n",
    "$$ e=mc^2 $$, \n",
    "\n",
    "or as a block:\n",
    "\n",
    "$$\n",
    "\\int_\\Omega \\nabla u \\cdot \\nabla v~dx = \\int_\\Omega fv~dx\n",
    "$$"
   ]
  },
  {
   "cell_type": "markdown",
   "metadata": {},
   "source": [
    "\n",
    "\n",
    "Greek alphabet\n",
    "====\n",
    "\n",
    "https://en.wikipedia.org/wiki/Greek_alphabet\n",
    "\n",
    "Α, α,\tAlpha\t\n",
    "Β, β,\tBeta\t\n",
    "Γ, γ,\tGamma\t\n",
    "Δ, δ,\tDelta\t\n",
    "Ε, ε,\tEpsilon\t\n",
    "Ζ, ζ,\tZeta\t\n",
    "Η, η,\tEta\tΤτ\t\n",
    "Θ, θ,\tTheta\t\n",
    "Ι, ι,\tIota\t\n",
    "Κ, κ,\tKappa\t\n",
    "Λ, λ,\tLambda\t\n",
    "Μ, μ,\tMu\t\n",
    ".............. \n",
    "Ν, ν,\tNu\n",
    "Ξ, ξ,\tXi\n",
    "Ο, ο,\tOmicron\n",
    "Π, π,\tPi\n",
    "Ρ, ρ,\tRho\n",
    "Σ, σ,ς,\tSigma\n",
    "Τ, τ,   Tau,\n",
    "Υ, υ,\tUpsilon\n",
    "Φ, φ,\tPhi\n",
    "Χ, χ,\tChi\n",
    "Ψ, ψ,\tPsi\n",
    "Ω, ω,   Omega"
   ]
  },
  {
   "cell_type": "markdown",
   "metadata": {},
   "source": [
    " Α α, Β β, Γ γ, Δ δ, \n",
    " Ε ε, Ζ ζ, \n",
    " Η η, Θ θ, \n",
    " Ι ι, Κ κ, Λ λ, Μ μ, Ν ν, Ξ ξ, \n",
    " Ο ο, Π π, Ρ ρ, Σ σ/ς, Τ τ, \n",
    " Υ υ, Φ φ, Χ χ, Ψ ψ, Ω ω.\n",
    " "
   ]
  },
  {
   "cell_type": "markdown",
   "metadata": {},
   "source": [
    "\n",
    "Greek letter in Markdown\n",
    "====\n",
    "\n",
    "$A$ $B$ $\\Gamma$ $\\Delta$\n",
    "\n",
    "$E$ $Z$\n",
    "\n",
    "$H$ $\\Theta$\n",
    "\n",
    "$I$ $K$ $\\Lambda$ $M$ $N$ $\\Xi$\n",
    "\n",
    "$O$ $\\Pi$ $P$ $\\Sigma$ $T$\n",
    "\n",
    "$Y$ $\\Phi$ $X$ $\\Psi$\n",
    "\n",
    "$\\Omega$\n",
    "\n"
   ]
  },
  {
   "cell_type": "markdown",
   "metadata": {},
   "source": [
    "𝐴 𝐵 Γ Δ\n",
    "𝐸 𝑍\n",
    "𝐻 Θ\n",
    "𝐼 𝐾 Λ 𝑀 𝑁 Ξ\n",
    "𝑂 Π 𝑃 Σ 𝑇\n",
    "𝑌 Φ 𝑋 Ψ\n",
    "Ω"
   ]
  },
  {
   "cell_type": "markdown",
   "metadata": {},
   "source": [
    "ΑΒΓΔ\n",
    "ΕΖ\n",
    "ΗΘ\n",
    "ΙΚΛMNΞ\n",
    "OΠΡΣΤ\n",
    "ΥΦΧΨ\n",
    "Ω"
   ]
  },
  {
   "cell_type": "code",
   "execution_count": null,
   "metadata": {},
   "outputs": [],
   "source": [
    "# Greek Letter in Code (Jupiter, Python)\n",
    "ΑΒΓΔ\n",
    "ΕΖ\n",
    "ΗΘ\n",
    "ΙΚΛMNΞ\n",
    "OΠΡΣΤ\n",
    "ΥΦΧΨ\n",
    "Ω"
   ]
  },
  {
   "cell_type": "code",
   "execution_count": 2,
   "metadata": {},
   "outputs": [
    {
     "data": {
      "text/plain": [
       "1.9599639845400545"
      ]
     },
     "execution_count": 2,
     "metadata": {},
     "output_type": "execute_result"
    }
   ],
   "source": [
    "st.norm.isf(.025)"
   ]
  },
  {
   "cell_type": "code",
   "execution_count": 5,
   "metadata": {},
   "outputs": [
    {
     "data": {
      "text/plain": [
       "(12.0, 28.0)"
      ]
     },
     "execution_count": 5,
     "metadata": {},
     "output_type": "execute_result"
    }
   ],
   "source": [
    "st.binom.ppf(q=.025,n=100,p=.2), st.binom.isf(q=.025,n=100,p=.2)"
   ]
  },
  {
   "cell_type": "code",
   "execution_count": 6,
   "metadata": {},
   "outputs": [
    {
     "data": {
      "text/plain": [
       "(72.0, 88.0)"
      ]
     },
     "execution_count": 6,
     "metadata": {},
     "output_type": "execute_result"
    }
   ],
   "source": [
    "st.binom.ppf(q=.025,n=100,p=.8), st.binom.isf(q=.025,n=100,p=.8)"
   ]
  },
  {
   "cell_type": "code",
   "execution_count": null,
   "metadata": {},
   "outputs": [],
   "source": []
  }
 ],
 "metadata": {
  "kernelspec": {
   "display_name": "Python 3",
   "language": "python",
   "name": "python3"
  },
  "language_info": {
   "codemirror_mode": {
    "name": "ipython",
    "version": 3
   },
   "file_extension": ".py",
   "mimetype": "text/x-python",
   "name": "python",
   "nbconvert_exporter": "python",
   "pygments_lexer": "ipython3",
   "version": "3.7.4"
  }
 },
 "nbformat": 4,
 "nbformat_minor": 2
}
