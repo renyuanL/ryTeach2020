{
 "cells": [
  {
   "cell_type": "markdown",
   "metadata": {},
   "source": [
    "# [@Github](https://github.com/renyuanL/ryTeach2020/blob/master/_2020_prob/probCh01.ipynb)\n",
    "\n",
    "# [@Colab](https://colab.research.google.com/github/renyuanL/ryTeach2020/blob/master/_2020_prob/probCh01.ipynb)"
   ]
  },
  {
   "cell_type": "markdown",
   "metadata": {},
   "source": []
  },
  {
   "cell_type": "markdown",
   "metadata": {},
   "source": [
    "# 1. Introduction to Statistics and Probability\n",
    "\n",
    "   * 1.1 Overview: Statistical Inference, Samples, Populations, and the Role of Probability\n",
    "   * 1.2 Sampling Procedures; Collection of Data\n",
    "   * 1.3 Discrete and Continuous Data.\n",
    "   * 1.4 Probability: Sample Space and Events\n",
    "       *             Exercises\n",
    "   * 1.5 Counting Sample Points\n",
    "       *             Exercises\n",
    "   * 1.6 Probability of an Event\n",
    "   * 1.7 Additive Rules\n",
    "       *             Exercises\n",
    "   * 1.8 Conditional Probability, Independence, and the Product Rule\n",
    "       *             Exercises\n",
    "   * 1.9 Bayes' Rule\n",
    "       *             Exercises\n",
    "   *             Review Exercises"
   ]
  },
  {
   "cell_type": "markdown",
   "metadata": {},
   "source": [
    "## 1.1 Overview: Statistical Inference, Samples, Populations, and the Role of Probability\n"
   ]
  },
  {
   "cell_type": "markdown",
   "metadata": {},
   "source": [
    "Exam01.01\n",
    "====\n",
    "\n",
    "![](fgEx01.01.png)\n",
    "\n",
    "----\n",
    "\n",
    "Suppose that an engineer encounters data from a manufacturing process in which 【100】 items are sampled and 【10】 are found to be defective. \n",
    "\n",
    "It is expected and anticipated that occasionally there will be defective items. \n",
    "\n",
    "Obviously these 100 items represent the sample. \n",
    "\n",
    "However, it has been determined that in the long run, the company can only tolerate 【5%】 defective in the process. \n",
    "\n",
    "Now, the elements of probability allow the engineer to determine how conclusive the sample information is regarding the nature of the process. \n",
    "\n",
    "In this case, the population conceptually represents all possible items from the process. \n",
    "\n",
    "Suppose we learn that if the process is acceptable, that is, if it does produce items no more than 5% of which are defective, there is a probability of 【0.0282】 of obtaining 10 or more defective items in a random sample of 100 items from the process. \n",
    "\n",
    "This small probability suggests that the process does, indeed, have a long-run rate of defective items that exceeds 5%. \n",
    "\n",
    "In other words, under the condition of an acceptable process, the sample information obtained would rarely occur. \n",
    "\n",
    "However, it did occur! Clearly, though, it would occur with a much higher probability if the process defective rate exceeded 5% by a significant amount.\n",
    "\n",
    "----"
   ]
  },
  {
   "cell_type": "markdown",
   "metadata": {},
   "source": [
    "【rySol】\n",
    "\n",
    "sampleSize:\n",
    "    n= 100\n",
    "\n",
    "evidence:\n",
    "    X=  10\n",
    "\n",
    "hypothesis:\n",
    "    p == .05\n",
    "\n",
    "----\n",
    "\n",
    "by Probability Theory and Calculation:\n",
    "    P(\" X >= 10\" | \"p==.05\") = .0282\n",
    "\n",
    "----\n",
    "\n",
    "【statistically thinking】:\n",
    "\n",
    "If we think .0282 is \"small enough\",\n",
    "then the evidence \" X >= 10\", \n",
    "given that the hypothesis \" p==.05',  \n",
    "will hardly occur.\n",
    "\n",
    "But now, the evidence do occur !!\n",
    "How can we conclude about this situation?\n",
    "\n",
    "Logically, \n",
    "'p ==> q' \n",
    "is equvalent to\n",
    "' ~q ==> ~p'\n",
    "\n",
    "by this calculation:\n",
    " P(\" X >= 10\" | \"p==.05\") = .0282\n",
    "\n",
    "we conclude:\n",
    "    if 'p==.05', then 'X>=10' is almost not possible, because we think .0282 is a small probability.\n",
    "    this statement will lead us to think logically \n",
    "    that now 'X>=10' is observed, \n",
    "    so 'p==.05' is not acceptable.\n",
    " "
   ]
  },
  {
   "cell_type": "markdown",
   "metadata": {},
   "source": [
    "Exam01.02\n",
    "====\n",
    "\n",
    "![image.png](fg/fgExam01.02.png)\n",
    "![image.png](fg/fgExam01.02_1.png)\n",
    "![image.png](fg/fgExam01.02_2.png)\n",
    "\n",
    "![image.png](fg/fgExam01.02_tb1.1.png)\n",
    "![image.png](fg/fgExam01.02_fg1.1.png)\n",
    "\n",
    "----\n",
    "\n",
    "Often the nature of the scientific study will dictate the role that probability and deductive reasoning play in statistical inference. \n",
    "\n",
    "Exercise 9.40 on page 294 provides data associated with a study conducted at the Virginia Polytechnic Institute and State University on the development of a relationship between the roots of trees and the action of a fungus. \n",
    "\n",
    "Minerals are transferred from the fungus to the trees and sugars from the trees to the fungus. Two samples of 10 northern red oak seedlings were planted in a greenhouse, one containing seedlings treated with nitrogen and the other containing seedlings with no nitrogen. \n",
    "\n",
    "All other environmental conditions were held constant. \n",
    "\n",
    "All seedlings contained the fungus Pisolithus tinctorus. More details are supplied in Chapter 9. \n",
    "\n",
    "The stem weights in grams were recorded after the end of 140 days. The data are given in Table 1.1.\n",
    "\n",
    "In this example there are two samples from two separate populations. \n",
    "\n",
    "The purpose of the experiment is to determine if the use of nitrogen has an influence on the growth of the roots. \n",
    "\n",
    "The study is a comparative study (i.e., we seek to compare the two populations with regard to a certain important characteristic). \n",
    "\n",
    "It is instructive to plot the data as shown in the dot plot of Figure 1.1. \n",
    "\n",
    "The ◦ values represent the “nitrogen” data and the × values represent the “no-nitrogen” data. \n",
    "\n",
    "Notice that the general appearance of the data might suggest to the reader that, on average, the use of nitrogen increases the stem weight. \n",
    "\n",
    "Four nitrogen observations are considerably larger than any of the no-nitrogen observations. \n",
    "\n",
    "Most of the no-nitrogen observations appear to be below the center of the data. \n",
    "\n",
    "The appearance of the data set would seem to indicate that nitrogen is effective. \n",
    "\n",
    "But how can this be quantified? \n",
    "\n",
    "How can all of the apparent visual evidence be summarized in some sense? \n",
    "\n",
    "As in the preceding example, the fundamentals of probability can be used. \n",
    "\n",
    "The conclusions may be summarized in a probability statement or P-value. \n",
    "\n",
    "We will not show here the statistical inference that produces the summary probability. \n",
    "\n",
    "As in Example 1.1, these methods will be discussed in Chapter 10. \n",
    "\n",
    "The issue revolves around the “probability that data like these could be observed” given that nitrogen has no effect, in other words, given that both samples were generated from the same population. \n",
    "\n",
    "Suppose that this probability is small, say 0.03. \n",
    "\n",
    "That would certainly be strong evidence that the use of nitrogen does indeed influence (apparently increases) average stem weight of the red oak seedlings."
   ]
  },
  {
   "cell_type": "markdown",
   "metadata": {},
   "source": [
    "Table 1.1: Data Set for Example 1.2\n",
    "\n",
    "No Nitrogen |Nitrogen\n",
    "---|---\n",
    "0.32 |0.26\n",
    "0.53 |0.43\n",
    "0.28 |0.47\n",
    "0.37 |0.49\n",
    "0.47 |0.52\n",
    "0.43 |0.75\n",
    "0.36 |0.79\n",
    "0.42 |0.86\n",
    "0.38 |0.62\n",
    "0.43 |0.46"
   ]
  },
  {
   "cell_type": "code",
   "execution_count": 1,
   "metadata": {},
   "outputs": [],
   "source": [
    "import numpy as np\n",
    "import scipy.stats as st\n",
    "import matplotlib.pyplot as pl\n",
    "import pandas as pd\n",
    "\n",
    "X0=[ .32, .53, .28, .37, .47,\n",
    "     .43, .36, .42, .38, .43]\n",
    "X1=[ .26, .43, .47, .49, .52,\n",
    "     .75, .79, .86, .62, .46]\n",
    "\n",
    "X0= np.array(X0)\n",
    "X1= np.array(X1)\n",
    "\n",
    "pdX= pd.DataFrame(\n",
    "        {'X0, noNitrigen': X0,\n",
    "         'X1, withNitrogen':X1}\n",
    "        )"
   ]
  },
  {
   "cell_type": "code",
   "execution_count": 2,
   "metadata": {},
   "outputs": [
    {
     "data": {
      "text/plain": [
       "<matplotlib.axes._subplots.AxesSubplot at 0x207bcc9d7c8>"
      ]
     },
     "execution_count": 2,
     "metadata": {},
     "output_type": "execute_result"
    },
    {
     "data": {
      "image/png": "[encoded data removed]",
      "text/plain": [
       "<Figure size 432x288 with 1 Axes>"
      ]
     },
     "metadata": {
      "needs_background": "light"
     },
     "output_type": "display_data"
    },
    {
     "data": {
      "image/png": "[encoded data removed]",
      "text/plain": [
       "<Figure size 432x288 with 1 Axes>"
      ]
     },
     "metadata": {
      "needs_background": "light"
     },
     "output_type": "display_data"
    },
    {
     "data": {
      "image/png": "[encoded data removed]",
      "text/plain": [
       "<Figure size 432x288 with 1 Axes>"
      ]
     },
     "metadata": {
      "needs_background": "light"
     },
     "output_type": "display_data"
    },
    {
     "data": {
      "image/png": "[encoded data removed]",
      "text/plain": [
       "<Figure size 432x288 with 1 Axes>"
      ]
     },
     "metadata": {
      "needs_background": "light"
     },
     "output_type": "display_data"
    },
    {
     "data": {
      "image/png": "[encoded data removed]",
      "text/plain": [
       "<Figure size 432x288 with 1 Axes>"
      ]
     },
     "metadata": {
      "needs_background": "light"
     },
     "output_type": "display_data"
    },
    {
     "data": {
      "image/png": "[encoded data removed]",
      "text/plain": [
       "<Figure size 432x288 with 1 Axes>"
      ]
     },
     "metadata": {
      "needs_background": "light"
     },
     "output_type": "display_data"
    },
    {
     "data": {
      "image/png": "[encoded data removed]",
      "text/plain": [
       "<Figure size 432x288 with 1 Axes>"
      ]
     },
     "metadata": {
      "needs_background": "light"
     },
     "output_type": "display_data"
    }
   ],
   "source": [
    "pdX.plot.line(grid=True, marker='o')\n",
    "pdX.plot.bar(grid=True)\n",
    "\n",
    "pdX.plot.barh(grid=True)\n",
    "\n",
    "pdX.plot.hist(grid=True)\n",
    "pdX.plot.hist(grid=True, bins=100)\n",
    "\n",
    "pdX.plot.density(grid=True)\n",
    "\n",
    "pdX.plot.scatter(x=0, y=1, grid=True)\n"
   ]
  },
  {
   "cell_type": "code",
   "execution_count": 3,
   "metadata": {},
   "outputs": [
    {
     "data": {
      "text/html": [
       "<div>\n",
       "<style scoped>\n",
       "    .dataframe tbody tr th:only-of-type {\n",
       "        vertical-align: middle;\n",
       "    }\n",
       "\n",
       "    .dataframe tbody tr th {\n",
       "        vertical-align: top;\n",
       "    }\n",
       "\n",
       "    .dataframe thead th {\n",
       "        text-align: right;\n",
       "    }\n",
       "</style>\n",
       "<table border=\"1\" class=\"dataframe\">\n",
       "  <thead>\n",
       "    <tr style=\"text-align: right;\">\n",
       "      <th></th>\n",
       "      <th>X0, noNitrigen</th>\n",
       "      <th>X1, withNitrogen</th>\n",
       "    </tr>\n",
       "  </thead>\n",
       "  <tbody>\n",
       "    <tr>\n",
       "      <th>count</th>\n",
       "      <td>10.000000</td>\n",
       "      <td>10.000000</td>\n",
       "    </tr>\n",
       "    <tr>\n",
       "      <th>mean</th>\n",
       "      <td>0.399000</td>\n",
       "      <td>0.565000</td>\n",
       "    </tr>\n",
       "    <tr>\n",
       "      <th>std</th>\n",
       "      <td>0.072793</td>\n",
       "      <td>0.186741</td>\n",
       "    </tr>\n",
       "    <tr>\n",
       "      <th>min</th>\n",
       "      <td>0.280000</td>\n",
       "      <td>0.260000</td>\n",
       "    </tr>\n",
       "    <tr>\n",
       "      <th>25%</th>\n",
       "      <td>0.362500</td>\n",
       "      <td>0.462500</td>\n",
       "    </tr>\n",
       "    <tr>\n",
       "      <th>50%</th>\n",
       "      <td>0.400000</td>\n",
       "      <td>0.505000</td>\n",
       "    </tr>\n",
       "    <tr>\n",
       "      <th>75%</th>\n",
       "      <td>0.430000</td>\n",
       "      <td>0.717500</td>\n",
       "    </tr>\n",
       "    <tr>\n",
       "      <th>max</th>\n",
       "      <td>0.530000</td>\n",
       "      <td>0.860000</td>\n",
       "    </tr>\n",
       "  </tbody>\n",
       "</table>\n",
       "</div>"
      ],
      "text/plain": [
       "       X0, noNitrigen  X1, withNitrogen\n",
       "count       10.000000         10.000000\n",
       "mean         0.399000          0.565000\n",
       "std          0.072793          0.186741\n",
       "min          0.280000          0.260000\n",
       "25%          0.362500          0.462500\n",
       "50%          0.400000          0.505000\n",
       "75%          0.430000          0.717500\n",
       "max          0.530000          0.860000"
      ]
     },
     "execution_count": 3,
     "metadata": {},
     "output_type": "execute_result"
    }
   ],
   "source": [
    "describeX= pdX.describe()\n",
    "describeX\n"
   ]
  },
  {
   "cell_type": "code",
   "execution_count": 4,
   "metadata": {},
   "outputs": [
    {
     "data": {
      "text/plain": [
       "<matplotlib.axes._subplots.AxesSubplot at 0x207bccf9d88>"
      ]
     },
     "execution_count": 4,
     "metadata": {},
     "output_type": "execute_result"
    },
    {
     "data": {
      "image/png": "[encoded data removed]",
      "text/plain": [
       "<Figure size 432x288 with 1 Axes>"
      ]
     },
     "metadata": {
      "needs_background": "light"
     },
     "output_type": "display_data"
    }
   ],
   "source": [
    "\n",
    "pdX.boxplot(grid=True)\n"
   ]
  },
  {
   "cell_type": "code",
   "execution_count": 5,
   "metadata": {},
   "outputs": [
    {
     "data": {
      "text/plain": [
       "(0.39899999999999997,\n",
       " 0.0727934673503666,\n",
       " 0.5650000000000001,\n",
       " 0.18674105660572402)"
      ]
     },
     "execution_count": 5,
     "metadata": {},
     "output_type": "execute_result"
    }
   ],
   "source": [
    "# sample mean, sample standard deviation (unbiased)\n",
    "\n",
    "mu0=    X0.mean()\n",
    "sigma0= X0.std(ddof=1)\n",
    "mu1=    X1.mean()\n",
    "sigma1= X1.std(ddof=1)\n",
    "\n",
    "mu0, sigma0, mu1, sigma1\n"
   ]
  },
  {
   "cell_type": "code",
   "execution_count": 6,
   "metadata": {},
   "outputs": [
    {
     "data": {
      "text/plain": [
       "(0.023019315560826058, 0.059052707154051975)"
      ]
     },
     "execution_count": 6,
     "metadata": {},
     "output_type": "execute_result"
    }
   ],
   "source": [
    "# standard error from mean (sem)\n",
    "\n",
    "st.sem(X0), st.sem(X1)\n"
   ]
  },
  {
   "cell_type": "code",
   "execution_count": 7,
   "metadata": {},
   "outputs": [
    {
     "data": {
      "text/plain": [
       "((0.34692669042268215, 0.4510733095773178),\n",
       " (0.4314134955322152, 0.6985865044677849))"
      ]
     },
     "execution_count": 7,
     "metadata": {},
     "output_type": "execute_result"
    }
   ],
   "source": [
    "# 95% Confidence Inteval (信心區間)\n",
    "\n",
    "mu0Interval= st.t.interval(0.95, \n",
    "                           len(X0)-1, \n",
    "                           loc=np.mean(X0), \n",
    "                           scale=st.sem(X0))\n",
    "mu1Interval= st.t.interval(0.95, \n",
    "                           len(X1)-1, \n",
    "                           loc=np.mean(X1), \n",
    "                           scale=st.sem(X1))\n",
    "mu0Interval, mu1Interval"
   ]
  },
  {
   "cell_type": "code",
   "execution_count": 8,
   "metadata": {},
   "outputs": [
    {
     "data": {
      "text/plain": [
       "Ttest_indResult(statistic=-2.6190944840455472, pvalue=0.017386483684799125)"
      ]
     },
     "execution_count": 8,
     "metadata": {},
     "output_type": "execute_result"
    }
   ],
   "source": [
    "st.ttest_ind(X0,X1)"
   ]
  },
  {
   "cell_type": "markdown",
   "metadata": {},
   "source": [
    "st.ttest_ind?\n",
    "\n",
    "----\n",
    "Signature: st.ttest_ind(a, b, axis=0, equal_var=True, nan_policy='propagate')\n",
    "\n",
    "Docstring:\n",
    "Calculate the T-test for the means of *two independent* samples of scores.\n",
    "\n",
    "This is a two-sided test for the null hypothesis that 2 independent samples\n",
    "have identical average (expected) values. \n",
    "\n",
    "This test *assumes that the\n",
    "populations have identical variances by default.*\n",
    "\n",
    "【rySol】:\n",
    "\n",
    "we find that the pValue= .01729, which is small compared with the significant level, which is usually set to be .025 in two-sided test.\n",
    "\n",
    "The conclusion is that we must REJECT the hypothesis (or the assumption) that X0 and X1 are from the same population. In another words, they are different!!!\n",
    "\n",
    "----"
   ]
  },
  {
   "cell_type": "markdown",
   "metadata": {},
   "source": [
    "## 1.2 Sampling Procedures; Collection of Data"
   ]
  },
  {
   "cell_type": "markdown",
   "metadata": {},
   "source": [
    "Exam01.03\n",
    "====\n",
    "![image.png](fg/fgExam01.03.png)\n",
    "\n",
    "![image.png](fg/fgExam01.03_tf.png)\n",
    "\n",
    "A corrosion study was made in order to determine whether coating an aluminum metal with a corrosion retardation substance reduced the amount of corrosion. \n",
    "\n",
    "The coating is a protectant that is advertised to minimize fatigue damage in this type of material. \n",
    "\n",
    "Also of interest is the influence of humidity on the amount of corrosion. \n",
    "\n",
    "A corrosion measurement can be expressed in thousands of cycles to failure. \n",
    "\n",
    "Two levels of coating, no coating and chemical corrosion coating, were used. \n",
    "\n",
    "In addition, the two relative humidity levels are 20% relative humidity and 80% relative humidity. \n",
    "\n",
    "The experiment involves four treatment combinations that are listed in the table that follows. \n",
    "\n",
    "There are eight experimental units used, and they are aluminum specimens prepared; two are assigned randomly to each of the four treatment combinations. \n",
    "\n",
    "The data are presented in Table 1.2. \n",
    "\n",
    "The corrosion data are averages of two specimens. \n",
    "\n",
    "A plot of the averages is pictured in Figure 1.3. \n",
    "\n",
    "A relatively large value of cycles to failure represents a small amount of corrosion. \n",
    "\n",
    "As one might expect, an increase in humidity appears to make the corrosion worse. \n",
    "\n",
    "The use of the chemical corrosion coating procedure appears to reduce corrosion."
   ]
  },
  {
   "cell_type": "markdown",
   "metadata": {},
   "source": [
    "## 1.3 Discrete and Continuous Data."
   ]
  },
  {
   "cell_type": "markdown",
   "metadata": {},
   "source": [
    "## 1.4 Probability: Sample Space and Events\n"
   ]
  },
  {
   "cell_type": "markdown",
   "metadata": {},
   "source": [
    "Exam01.04\n",
    "====\n",
    "\n",
    "![image.png](fg/fgExam01.04_exam0201.png)\n",
    "\n",
    "----\n",
    "\n",
    "Consider the experiment of 【tossing a die】. \n",
    "\n",
    "If we are interested in the number that shows on the top face, \n",
    "the sample space is \n",
    "\n",
    "$ S_1 = \\{1, 2, 3, 4, 5, 6\\}. $\n",
    "\n",
    "If we are interested only in whether the number is even or odd, \n",
    "the sample space is simply \n",
    "\n",
    "$\n",
    "S_2 = \\{ even, odd \\}.\n",
    "$\n",
    "\n",
    "\n",
    "\n",
    "\n",
    "----"
   ]
  },
  {
   "cell_type": "markdown",
   "metadata": {},
   "source": [
    "Exam01.05\n",
    "====\n",
    "\n",
    "![image.png](fg/fnExam01.05.png)\n",
    "\n",
    "![image.png](fg/fnExam01.05_f.png)\n",
    "\n",
    "----\n",
    "\n",
    "An experiment consists of flipping a coin and then flipping it a second time if a head occurs. \n",
    "\n",
    "If a tail occurs on the first flip, then a die is tossed once. \n",
    "\n",
    "To list the elements of the sample space providing the most information, we construct the tree diagram of Figure 2.1. \n",
    "\n",
    "The various paths along the branches of the tree give the distinct sample points. \n",
    "\n",
    "Starting with the top left branch and moving to the right along the first path, we get the sample point HH, indicating the possibility that heads occurs on two successive flips of the coin. \n",
    "\n",
    "Likewise, the sample point T3 indicates the possibility that the coin will show a tail followed by a 3 on the toss of the die. \n",
    "\n",
    "By proceeding along all paths, we see that the sample space is \n",
    "\n",
    "$\n",
    "S = \\{HH, HT, T1, T2, T3, T4, T5, T6\\}.\n",
    "$\n",
    "\n",
    "\n"
   ]
  },
  {
   "cell_type": "markdown",
   "metadata": {},
   "source": [
    "Exam01.06\n",
    "====\n",
    "\n",
    "Given the sample space S = {t | t ≥ 0}, where t is the life in years of a certain electronic component, then the event A that the component fails before the end of the fifth year is the subset A = {t | 0 ≤ t < 5}.\n"
   ]
  },
  {
   "cell_type": "markdown",
   "metadata": {},
   "source": [
    "Exam01.07\n",
    "====\n",
    "Let R be the event that a red card is selected from an ordinary deck of 52 playing cards, and let S be the entire deck. Then R' is the event that the card selected from the deck is not a red card but a black card.\n"
   ]
  },
  {
   "cell_type": "markdown",
   "metadata": {},
   "source": [
    "Exam01.08\n",
    "====\n",
    "Consider the sample space S = {book, cell phone, mp3, paper, stationery, laptop}. Let A = {book, stationery, laptop, paper}. Then the complement of A is A' = {cell phone, mp3}."
   ]
  },
  {
   "cell_type": "markdown",
   "metadata": {},
   "source": [
    "Exam01.09\n",
    "====\n",
    "Let E be the event that a person selected at random in a classroom is majoring in engineering, and let F be the event that the person is female. Then E ∩ F is the event of all female engineering students in the classroom.\n"
   ]
  },
  {
   "cell_type": "markdown",
   "metadata": {},
   "source": [
    "Exam01.10\n",
    "====\n",
    "Let V = {a, e, i, o, u} and C = {l, r, s, t}; then it follows that V ∩ C = φ. That is, V and C have no elements in common and, therefore, cannot both simultaneously occur.\n"
   ]
  },
  {
   "cell_type": "markdown",
   "metadata": {},
   "source": [
    "Exam01.11\n",
    "====\n",
    "A cable television company offers programs on eight different channels, three of which are affiliated with ABC, two with NBC, and one with CBS. The other two are an educational channel and the ESPN sports channel. Suppose that a person subscribing to this service turns on a television set without first selecting the channel. Let A be the event that the program belongs to the NBC network and B the event that it belongs to the CBS network. Since a television program cannot belong to more than one network, the events A and B have no programs in common. Therefore, the intersection A ∩ B contains no programs, and consequently the events A and B are mutually exclusive.\n"
   ]
  },
  {
   "cell_type": "markdown",
   "metadata": {},
   "source": [
    "Exam01.12\n",
    "====\n",
    "Let A = {a, b, c} and B = {b, c, d, e}; then A ∪ B = {a, b, c, d, e}.\n"
   ]
  },
  {
   "cell_type": "markdown",
   "metadata": {},
   "source": [
    "Exam01.13\n",
    "====\n",
    "Let P be the event that an employee selected at random from an oil drilling company smokes cigarettes. Let Q be the event that the employee selected drinks alcoholic beverages. Then the event P ∪ Q is the set of all employees who either drink or smoke or do both.\n"
   ]
  },
  {
   "cell_type": "markdown",
   "metadata": {},
   "source": [
    "Exam01.14\n",
    "====\n",
    "If M = {x | 3 < x < 9} and N = {y | 5 < y < 12}, then M ∪ N = {z | 3 < z < 12}.\n"
   ]
  },
  {
   "cell_type": "markdown",
   "metadata": {},
   "source": []
  },
  {
   "cell_type": "markdown",
   "metadata": {},
   "source": [
    "\n",
    "\n"
   ]
  },
  {
   "cell_type": "markdown",
   "metadata": {},
   "source": [
    "----\n",
    "\n",
    "Exercises:\n",
    "====\n",
    "\n",
    "數學的學習過程中，做習題是非常重要的，不可或缺的過程，課本中，所有章節或段落都有許多習題，各位同學盡量多做，最低限度，每個段落的的習題至少都做3題以上。\n",
    "\n",
    "請優先練習 第1題、最後1題以及題號為中位數(首尾題號相加除以2)的題目\n",
    "\n",
    "以本節為例，優先選擇 \n",
    "\n",
    "01.01, (首題) \n",
    "01.16, (尾題) \n",
    "01.08. (中間題)\n",
    "\n",
    "----\n"
   ]
  },
  {
   "cell_type": "markdown",
   "metadata": {},
   "source": [
    "Exer01.01\n",
    "====\n",
    "\n",
    "2.1\n",
    "\n",
    "List the elements of each of the following sample\n",
    "spaces:\n",
    "\n",
    "(a) the set of integers between 1 and 50 divisible by 8;\n",
    "\n",
    "(b) the set $ S = \\{x | x^2 + 4x − 5 = 0\\} $\n",
    "\n",
    "(c) the set of outcomes when a coin is tossed until a\n",
    "tail or three heads appear;\n",
    "\n",
    "(d) the set S = {x | x is a continent};\n",
    "\n",
    "(e) the set S = {x | 2x − 4 ≥ 0 and x < 1}."
   ]
  },
  {
   "cell_type": "markdown",
   "metadata": {},
   "source": [
    "Exer01.16\n",
    "====\n",
    "\n",
    "\n",
    "2.20 \n",
    "\n",
    "Referring to Exercise 2.19 and the Venn diagram\n",
    "of Figure 2.5, list the numbers of the regions that represent\n",
    "the following events:\n",
    "\n",
    "(a) The family will experience no mechanical problems\n",
    "and will not receive a ticket for a traffic violation\n",
    "but will arrive at a campsite with no vacancies.\n",
    "\n",
    "(b) The family will experience both mechanical problems\n",
    "and trouble in locating a campsite with a vacancy\n",
    "but will not receive a ticket for a traffic violation.\n",
    "\n",
    "(c) The family will either have mechanical trouble or\n",
    "arrive at a campsite with no vacancies but will not\n",
    "receive a ticket for a traffic violation.\n",
    "\n",
    "(d) The family will not arrive at a campsite with no\n",
    "vacancies.\n",
    "\n",
    "----\n",
    "\n",
    "2.19 \n",
    "\n",
    "Suppose that a family is leaving on a summer\n",
    "vacation in their camper and that M is the event that\n",
    "they will experience mechanical problems, T is the\n",
    "event that they will receive a ticket for committing a\n",
    "traffic violation, and V is the event that they will arrive\n",
    "at a campsite with no vacancies. Referring to the\n",
    "Venn diagram of Figure 2.5, state in words the events\n",
    "represented by the following regions:\n",
    "\n",
    "(a) region 5;\n",
    "\n",
    "(b) region 3;\n",
    "\n",
    "(c) regions 1 and 2 together;\n",
    "\n",
    "(d) regions 4 and 7 together;\n",
    "\n",
    "(e) regions 3, 6, 7, and 8 together.\n",
    "\n",
    "----\n",
    "\n",
    "![image.png](fg/fgExer01.16.png)\n"
   ]
  },
  {
   "cell_type": "markdown",
   "metadata": {},
   "source": [
    "Exer01.08\n",
    "====\n",
    "\n",
    "2.10 \n",
    "\n",
    "An engineering firm is hired to determine if certain\n",
    "waterways in Virginia are safe for fishing. Samples\n",
    "are taken from three rivers.\n",
    "\n",
    "(a) List the elements of a sample space S, using the\n",
    "letters F for safe to fish and N for not safe to fish.\n",
    "\n",
    "(b) List the elements of S corresponding to event E\n",
    "that at least two of the rivers are safe for fishing.\n",
    "\n",
    "(c) Define an event that has as its elements the points\n",
    "{FFF,NFF,FFN,NFN}."
   ]
  },
  {
   "cell_type": "markdown",
   "metadata": {},
   "source": []
  },
  {
   "cell_type": "markdown",
   "metadata": {},
   "source": [
    "## 1.5 Counting Sample Points"
   ]
  },
  {
   "cell_type": "markdown",
   "metadata": {},
   "source": [
    "### Exam01.15\n",
    "\n",
    "Example 2.18: \n",
    "\n",
    "In one year, three awards (research, teaching, and service) will be given to a class of 25 graduate students in a statistics department. If each student can receive at most one award, how many possible selections are there?\n",
    "\n",
    "#### 【Solution】 :\n",
    "\n",
    "Since the awards are distinguishable, it is a permutation problem. \n",
    "\n",
    "The total number of sample points is\n",
    "\n",
    "$\n",
    "P^{25}_{3} = \\frac\n",
    "{25!}\n",
    "{(25 − 3)!}\n",
    "= \\frac\n",
    "{25!}\n",
    "{22!}\n",
    "= (25)(24)(23) = 13, 800.\n",
    "$"
   ]
  },
  {
   "cell_type": "markdown",
   "metadata": {},
   "source": [
    "## 運用 Python 之 scipy.special 模組 來做計算\n",
    "\n",
    "```python\n",
    "import scipy.special as sp\n",
    "\n",
    "sp.comb(N, k)\n",
    "  #The number of combinations of N things taken k at a time.\n",
    "sp.perm(N, k)\n",
    "  #Permutations of N things taken k at a time, i.e., k-permutations of N.\n",
    "sp.factorial(n)\n",
    "  #The factorial of a number or array of numbers.\n",
    "```\n",
    "\n",
    "### 利用 sp.perm? 或 sp.perm?? 來查看函數的說明"
   ]
  },
  {
   "cell_type": "code",
   "execution_count": 9,
   "metadata": {},
   "outputs": [],
   "source": [
    "# sp.perm?"
   ]
  },
  {
   "cell_type": "code",
   "execution_count": 10,
   "metadata": {},
   "outputs": [
    {
     "data": {
      "text/plain": [
       "(13800.0, 13799.999999999998, 13800)"
      ]
     },
     "execution_count": 10,
     "metadata": {},
     "output_type": "execute_result"
    }
   ],
   "source": [
    "# 活用 \n",
    "import scipy.special as sp\n",
    "\n",
    "ans1= sp.perm(25,3)\n",
    "\n",
    "ans2= sp.factorial(25)/sp.factorial(22)\n",
    "\n",
    "ans3= 25*24*23\n",
    "\n",
    "ans1, ans2, ans3"
   ]
  },
  {
   "cell_type": "markdown",
   "metadata": {},
   "source": [
    "### Exam01.16\n",
    "\n",
    "Example 2.19: \n",
    "\n",
    "A president and a treasurer are to be chosen from a student club consisting of 50 people. How many different choices of officers are possible if \n",
    "\n",
    "(a) there are no restrictions; \n",
    "\n",
    "(b) A will serve only if he is president; \n",
    "\n",
    "(c) B and C will serve together or not at all; \n",
    "\n",
    "(d) D and E will not serve together?\n"
   ]
  },
  {
   "cell_type": "markdown",
   "metadata": {},
   "source": [
    "### Exam01.17\n",
    "\n",
    "Example 2.20: \n",
    "\n",
    "In a college football training session, the defensive coordinator needs to have 10 players standing in a row. Among these 10 players, there are 1 freshman, 2 sophomores, 4 juniors, and 3 seniors. How many different ways can they be arranged in a row if only their class level will be distinguished?\n"
   ]
  },
  {
   "cell_type": "markdown",
   "metadata": {},
   "source": [
    "### Exam01.18\n",
    "\n",
    "Example 2.21: \n",
    "\n",
    "In how many ways can 7 graduate students be assigned to 1 triple and 2 double\n",
    "hotel rooms during a conference?\n",
    "\n",
    "\n",
    "【Solution】 : \n",
    "\n",
    "The total number of possible partitions would be\n",
    "$\n",
    "C^{7}_{3, 2, 2}\n",
    "=\n",
    "\\frac{7!}\n",
    "{3! 2! 2!}\n",
    "= 210.\n",
    "$"
   ]
  },
  {
   "cell_type": "code",
   "execution_count": 11,
   "metadata": {},
   "outputs": [
    {
     "data": {
      "text/plain": [
       "210.0"
      ]
     },
     "execution_count": 11,
     "metadata": {},
     "output_type": "execute_result"
    }
   ],
   "source": [
    "import math\n",
    "\n",
    "# 反斜線用來 把 \"斷行\" 連起來，它的【後面】不能再有任何符號(連空白也不行)\n",
    "\n",
    "math.factorial(7)  \\\n",
    "/math.factorial(3) \\\n",
    "/math.factorial(2) \\\n",
    "/math.factorial(2)\n"
   ]
  },
  {
   "cell_type": "markdown",
   "metadata": {},
   "source": [
    "### Ref:\n",
    "\n",
    "#### Multinomial theorem\n",
    "\n",
    "![](https://wikimedia.org/api/rest_v1/media/math/render/svg/dccd561875a89864a7def8fbf7d8c9405234bbeb)\n",
    "\n",
    "![](https://wikimedia.org/api/rest_v1/media/math/render/svg/3c7165fdb93f8d28ab738a85570ce10529dcdad8)\n",
    "    "
   ]
  },
  {
   "cell_type": "markdown",
   "metadata": {},
   "source": [
    "### Exam01.19\n",
    "\n",
    "Example 2.22: \n",
    "\n",
    "A young boy asks his mother to get 5 $ GameBoy^{TM} $ cartridges from his collection\n",
    "of 10 arcade and 5 sports games. How many ways are there that his mother can\n",
    "get 3 arcade and 2 sports games?\n",
    "\n",
    "----\n",
    "\n",
    "【Solution】: \n",
    "\n",
    "The number of ways of selecting 3 cartridges from 10 is\n",
    "\n",
    "$\n",
    "C^{10}_{3}\n",
    "=\n",
    "\\frac{10!}\n",
    "{3! (10 − 3)!}\n",
    "= 120.\n",
    "$\n",
    "\n",
    "The number of ways of selecting 2 cartridges from 5 is\n",
    "\n",
    "$\n",
    "C^{5}_{2}\n",
    "=\n",
    "\\frac{5!}\n",
    "{2! 3!}\n",
    "= 10\n",
    "$\n",
    "\n",
    "Using the multiplication rule  \n",
    "with $n_1$ = 120 and $n_2$ = 10, \n",
    "we have\n",
    "(120)(10) = 1200 ways."
   ]
  },
  {
   "cell_type": "code",
   "execution_count": 12,
   "metadata": {},
   "outputs": [
    {
     "data": {
      "text/plain": [
       "1200.0"
      ]
     },
     "execution_count": 12,
     "metadata": {},
     "output_type": "execute_result"
    }
   ],
   "source": [
    "sp.comb(10,3) * sp.comb(5,2)"
   ]
  },
  {
   "cell_type": "markdown",
   "metadata": {},
   "source": [
    "### Exam01.20\n",
    "\n",
    "Example 2.23: \n",
    "\n",
    "How many different letter arrangements can be made from the letters in the word\n",
    "STATISTICS?\n",
    "\n",
    "【Solution】: \n",
    "\n",
    "Using the same argument as in the discussion for Theorem 1.6, in this example we can actually apply Theorem 1.5 to obtain\n",
    "\n",
    "$\n",
    "C^{10}_{3, 3, 2, 1, 1}\n",
    "=\n",
    "\\frac{10!}\n",
    "{3! 3! 2! 1! 1!}\n",
    "= 50,400.\n",
    "$\n",
    "\n",
    "Here we have 10 total letters, with 2 letters (S, T) appearing 3 times each, letter\n",
    "I appearing twice, and letters A and C appearing once each. On the other hand,\n",
    "this result can be directly obtained by using Theorem 1.4.\n"
   ]
  },
  {
   "cell_type": "markdown",
   "metadata": {},
   "source": []
  },
  {
   "cell_type": "markdown",
   "metadata": {},
   "source": []
  },
  {
   "cell_type": "code",
   "execution_count": 13,
   "metadata": {},
   "outputs": [
    {
     "data": {
      "text/plain": [
       "50400.0"
      ]
     },
     "execution_count": 13,
     "metadata": {},
     "output_type": "execute_result"
    }
   ],
   "source": [
    "sp.factorial(10) \\\n",
    "/sp.factorial(3) \\\n",
    "/sp.factorial(3) \\\n",
    "/sp.factorial(2) \\\n",
    "/sp.factorial(1) \\\n",
    "/sp.factorial(1)"
   ]
  },
  {
   "cell_type": "markdown",
   "metadata": {},
   "source": []
  },
  {
   "cell_type": "markdown",
   "metadata": {},
   "source": [
    "## Exercises\n",
    "\n",
    "1.17, (首)\n",
    "1.37, (尾)\n",
    "1.27. (中)\n"
   ]
  },
  {
   "cell_type": "markdown",
   "metadata": {},
   "source": [
    "## 1.6 Probability of an Event\n",
    "\n",
    "## 1.7 Additive Rules\n",
    "\n",
    "## Exercises\n",
    "\n",
    "## 1.8 Conditional Probability, Independence, and the Product Rule\n",
    "\n",
    "## Exercises\n",
    "\n",
    "## 1.9 Bayes' Rule\n",
    "\n",
    "## Exercises\n",
    "\n",
    "## Review Exercises"
   ]
  },
  {
   "cell_type": "markdown",
   "metadata": {},
   "source": []
  }
 ],
 "metadata": {
  "kernelspec": {
   "display_name": "Python 3",
   "language": "python",
   "name": "python3"
  },
  "language_info": {
   "codemirror_mode": {
    "name": "ipython",
    "version": 3
   },
   "file_extension": ".py",
   "mimetype": "text/x-python",
   "name": "python",
   "nbconvert_exporter": "python",
   "pygments_lexer": "ipython3",
   "version": "3.7.4"
  }
 },
 "nbformat": 4,
 "nbformat_minor": 2
}
