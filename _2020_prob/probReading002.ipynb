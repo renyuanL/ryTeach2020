{
 "cells": [
  {
   "cell_type": "markdown",
   "metadata": {},
   "source": [
    "\n",
    "How to Use Statistics to Understand Poll Results\n",
    "====\n",
    "\n",
    "1.\n",
    "https://www.quickanddirtytips.com/education/math/how-to-use-statistics-to-understand-poll-results\n",
    "\n",
    "2.\n",
    "https://www.scientificamerican.com/article/how-to-use-statistics-to-understand-poll-results/\n"
   ]
  },
  {
   "cell_type": "code",
   "execution_count": null,
   "metadata": {},
   "outputs": [],
   "source": []
  }
 ],
 "metadata": {
  "kernelspec": {
   "display_name": "Python 3",
   "language": "python",
   "name": "python3"
  },
  "language_info": {
   "codemirror_mode": {
    "name": "ipython",
    "version": 3
   },
   "file_extension": ".py",
   "mimetype": "text/x-python",
   "name": "python",
   "nbconvert_exporter": "python",
   "pygments_lexer": "ipython3",
   "version": "3.7.4"
  }
 },
 "nbformat": 4,
 "nbformat_minor": 2
}
