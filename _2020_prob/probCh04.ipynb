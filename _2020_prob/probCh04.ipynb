{
 "cells": [
  {
   "cell_type": "markdown",
   "metadata": {},
   "source": [
    "# [@Github](https://github.com/renyuanL/ryTeach2020/blob/master/_2020_prob/probCh04.ipynb)\n",
    "\n",
    "# [@Colab](https://colab.research.google.com/github/renyuanL/ryTeach2020/blob/master/_2020_prob/probCh04.ipynb)"
   ]
  },
  {
   "cell_type": "markdown",
   "metadata": {},
   "source": [
    "----\n",
    "\n",
    "# Ch04\n",
    "\n",
    "----"
   ]
  },
  {
   "cell_type": "markdown",
   "metadata": {},
   "source": [
    "In this chapter, we focus on sampling from distributions or populations and\n",
    "study such important quantities as the sample mean and sample variance, which\n",
    "will be of vital importance in future chapters. \n",
    "\n",
    "In addition, we attempt to give the\n",
    "reader an introduction to the role that the sample mean and variance will play\n",
    "in statistical inference in later chapters. \n",
    "\n",
    "The use of modern high-speed computers\n",
    "allows the scientist or engineer to greatly enhance his or her use of formal statistical\n",
    "inference with graphical techniques. \n",
    "\n",
    "Much of the time, formal inference appears\n",
    "quite dry and perhaps even abstract to the practitioner or to the manager who\n",
    "wishes to let statistical analysis be a guide to decision-making."
   ]
  },
  {
   "cell_type": "markdown",
   "metadata": {},
   "source": [
    "## Def:\n",
    "\n",
    "- A population consists of the totality of the observations with which we are concerned.\n",
    "- \n",
    "- A sample is a subset of a population.\n",
    "- \n",
    "- Let X1,X2, . . . , Xn be n independent random variables, each having the same probability distribution f(x). Define X1,X2, . . . , Xn to be a random sample of size n from the population f(x) and write its joint probability distribution as f(x1, x2, . . . , xn) = f(x1)f(x2) · · · f(xn).\n",
    "- \n",
    "- Any function of the random variables constituting a random sample is called a statistic."
   ]
  },
  {
   "cell_type": "markdown",
   "metadata": {},
   "source": [
    "![](media/Ch04/image6.png) <div style=\"text-align: right\">【p04.000】</div>\n",
    "\n",
    "![](media/Ch04/image7.png) <div style=\"text-align: right\">【p04.001】</div>\n",
    "![](media/Ch04/image8.png) <div style=\"text-align: right\">【p04.002】</div>\n",
    "![](media/Ch04/image9.png) <div style=\"text-align: right\">【p04.003】</div>\n",
    "![](media/Ch04/image14.png) <div style=\"text-align: right\">【p04.004】</div>"
   ]
  },
  {
   "cell_type": "markdown",
   "metadata": {},
   "source": [
    "![](media/Ch04/image20.png) <div style=\"text-align: right\">【p04.005】</div>"
   ]
  },
  {
   "cell_type": "markdown",
   "metadata": {},
   "source": [
    "![](media/Ch04/image21.png) <div style=\"text-align: right\">【p04.006】</div>\n",
    "![](media/Ch04/image23.png) <div style=\"text-align: right\">【p04.007】</div>\n",
    "![](media/Ch04/image24.png) <div style=\"text-align: right\">【p04.008】</div>\n",
    "![](media/Ch04/image26.png) <div style=\"text-align: right\">【p04.009】</div>\n",
    "![](media/Ch04/image30.png) <div style=\"text-align: right\">【p04.010】</div>"
   ]
  },
  {
   "cell_type": "markdown",
   "metadata": {},
   "source": [
    "![](media/Ch04/image34.png) <div style=\"text-align: right\">【p04.011】</div>\n",
    "![](media/Ch04/image35.png) <div style=\"text-align: right\">【p04.012】</div>\n",
    "![](media/Ch04/image36.png) <div style=\"text-align: right\">【p04.013】</div>\n",
    "![](media/Ch04/image37.png) <div style=\"text-align: right\">【p04.014】</div>\n",
    "![](media/Ch04/image38.png) <div style=\"text-align: right\">【p04.015】</div>\n",
    "![](media/Ch04/image39.png) <div style=\"text-align: right\">【p04.016】</div>\n",
    "![](media/Ch04/image40.png) <div style=\"text-align: right\">【p04.017】</div>\n",
    "![](media/Ch04/image41.png) <div style=\"text-align: right\">【p04.018】</div>\n",
    "![](media/Ch04/image42.png) <div style=\"text-align: right\">【p04.019】</div>\n",
    "![](media/Ch04/image43.png) <div style=\"text-align: right\">【p04.020】</div>\n",
    "![](media/Ch04/image44.png) <div style=\"text-align: right\">【p04.021】</div>\n",
    "![](media/Ch04/image45.png) <div style=\"text-align: right\">【p04.022】</div>\n",
    "![](media/Ch04/image46.png) <div style=\"text-align: right\">【p04.023】</div>\n",
    "![](media/Ch04/image47.png) <div style=\"text-align: right\">【p04.024】</div>\n",
    "![](media/Ch04/image49.png) <div style=\"text-align: right\">【p04.025】</div>\n",
    "![](media/Ch04/image50.png) <div style=\"text-align: right\">【p04.026】</div>\n",
    "![](media/Ch04/image51.png) <div style=\"text-align: right\">【p04.027】</div>\n",
    "![](media/Ch04/image54.png) <div style=\"text-align: right\">【p04.028】</div>\n",
    "![](media/Ch04/image56.png) <div style=\"text-align: right\">【p04.029】</div>\n",
    "![](media/Ch04/image57.png) <div style=\"text-align: right\">【p04.030】</div>\n",
    "![](media/Ch04/image58.png) <div style=\"text-align: right\">【p04.031】</div>\n",
    "![](media/Ch04/image64.png) <div style=\"text-align: right\">【p04.032】</div>\n",
    "![](media/Ch04/image65.png) <div style=\"text-align: right\">【p04.033】</div>\n",
    "![](media/Ch04/image66.png) <div style=\"text-align: right\">【p04.034】</div>\n",
    "![](media/Ch04/image70.png) <div style=\"text-align: right\">【p04.035】</div>\n",
    "![](media/Ch04/image75.png) <div style=\"text-align: right\">【p04.036】</div>\n",
    "![](media/Ch04/image76.png) <div style=\"text-align: right\">【p04.037】</div>\n",
    "![](media/Ch04/image77.png) <div style=\"text-align: right\">【p04.038】</div>\n",
    "![](media/Ch04/image78.png) <div style=\"text-align: right\">【p04.039】</div>\n",
    "![](media/Ch04/image79.png) <div style=\"text-align: right\">【p04.040】</div>\n",
    "![](media/Ch04/image80.png) <div style=\"text-align: right\">【p04.041】</div>\n",
    "![](media/Ch04/image84.png) <div style=\"text-align: right\">【p04.042】</div>\n",
    "![](media/Ch04/image85.png) <div style=\"text-align: right\">【p04.043】</div>\n",
    "![](media/Ch04/image86.png) <div style=\"text-align: right\">【p04.044】</div>\n",
    "![](media/Ch04/image88.png) <div style=\"text-align: right\">【p04.045】</div>\n",
    "![](media/Ch04/image89.png) <div style=\"text-align: right\">【p04.046】</div>\n",
    "![](media/Ch04/image90.png) <div style=\"text-align: right\">【p04.047】</div>\n",
    "![](media/Ch04/image91.png) <div style=\"text-align: right\">【p04.048】</div>\n",
    "![](media/Ch04/image92.png) <div style=\"text-align: right\">【p04.049】</div>\n",
    "![](media/Ch04/image93.png) <div style=\"text-align: right\">【p04.050】</div>\n",
    "![](media/Ch04/image94.png) <div style=\"text-align: right\">【p04.051】</div>\n",
    "![](media/Ch04/image95.png) <div style=\"text-align: right\">【p04.052】</div>\n",
    "![](media/Ch04/image98.png) <div style=\"text-align: right\">【p04.053】</div>\n",
    "![](media/Ch04/image99.png) <div style=\"text-align: right\">【p04.054】</div>\n",
    "![](media/Ch04/image100.png) <div style=\"text-align: right\">【p04.055】</div>\n",
    "![](media/Ch04/image101.png) <div style=\"text-align: right\">【p04.056】</div>\n",
    "![](media/Ch04/image102.png) <div style=\"text-align: right\">【p04.057】</div>\n",
    "![](media/Ch04/image103.png) <div style=\"text-align: right\">【p04.058】</div>\n",
    "![](media/Ch04/image104.png) <div style=\"text-align: right\">【p04.059】</div>\n",
    "![](media/Ch04/image105.png) <div style=\"text-align: right\">【p04.060】</div>\n",
    "![](media/Ch04/image106.png) <div style=\"text-align: right\">【p04.061】</div>\n",
    "![](media/Ch04/image107.png) <div style=\"text-align: right\">【p04.062】</div>"
   ]
  },
  {
   "cell_type": "markdown",
   "metadata": {},
   "source": [
    "----\n",
    "\n",
    "# Ch04\n",
    "\n",
    "----\n",
    "\n",
    "![](media_en/ch04/image5.png) <div style=\"text-align: right\">【q04.000】</div>\n",
    "![](media_en/ch04/image6.png) <div style=\"text-align: right\">【q04.001】</div>\n",
    "![](media_en/ch04/image7.png) <div style=\"text-align: right\">【q04.002】</div>\n",
    "![](media_en/ch04/image8.png) <div style=\"text-align: right\">【q04.003】</div>\n",
    "![](media_en/ch04/image9.png) <div style=\"text-align: right\">【q04.004】</div>\n",
    "![](media_en/ch04/image10.png) <div style=\"text-align: right\">【q04.005】</div>\n",
    "![](media_en/ch04/image11.png) <div style=\"text-align: right\">【q04.006】</div>\n",
    "![](media_en/ch04/image12.png) <div style=\"text-align: right\">【q04.007】</div>\n",
    "![](media_en/ch04/image13.png) <div style=\"text-align: right\">【q04.008】</div>\n",
    "![](media_en/ch04/image14.png) <div style=\"text-align: right\">【q04.009】</div>\n",
    "![](media_en/ch04/image15.png) <div style=\"text-align: right\">【q04.010】</div>\n",
    "![](media_en/ch04/image16.png) <div style=\"text-align: right\">【q04.011】</div>\n",
    "![](media_en/ch04/image17.png) <div style=\"text-align: right\">【q04.012】</div>\n",
    "![](media_en/ch04/image18.png) <div style=\"text-align: right\">【q04.013】</div>\n",
    "![](media_en/ch04/image19.png) <div style=\"text-align: right\">【q04.014】</div>\n",
    "![](media_en/ch04/image20.png) <div style=\"text-align: right\">【q04.015】</div>\n",
    "![](media_en/ch04/image21.png) <div style=\"text-align: right\">【q04.016】</div>\n",
    "![](media_en/ch04/image23.png) <div style=\"text-align: right\">【q04.017】</div>\n",
    "![](media_en/ch04/image24.png) <div style=\"text-align: right\">【q04.018】</div>\n",
    "![](media_en/ch04/image25.png) <div style=\"text-align: right\">【q04.019】</div>\n",
    "![](media_en/ch04/image26.png) <div style=\"text-align: right\">【q04.020】</div>\n",
    "![](media_en/ch04/image27.png) <div style=\"text-align: right\">【q04.021】</div>\n",
    "![](media_en/ch04/image28.png) <div style=\"text-align: right\">【q04.022】</div>\n",
    "![](media_en/ch04/image29.png) <div style=\"text-align: right\">【q04.023】</div>\n",
    "![](media_en/ch04/image30.png) <div style=\"text-align: right\">【q04.024】</div>\n",
    "![](media_en/ch04/image31.png) <div style=\"text-align: right\">【q04.025】</div>\n",
    "![](media_en/ch04/image32.png) <div style=\"text-align: right\">【q04.026】</div>\n",
    "![](media_en/ch04/image33.png) <div style=\"text-align: right\">【q04.027】</div>\n",
    "![](media_en/ch04/image34.png) <div style=\"text-align: right\">【q04.028】</div>\n",
    "![](media_en/ch04/image35.png) <div style=\"text-align: right\">【q04.029】</div>\n",
    "![](media_en/ch04/image36.png) <div style=\"text-align: right\">【q04.030】</div>\n",
    "![](media_en/ch04/image37.png) <div style=\"text-align: right\">【q04.031】</div>\n",
    "![](media_en/ch04/image38.png) <div style=\"text-align: right\">【q04.032】</div>\n",
    "![](media_en/ch04/image39.png) <div style=\"text-align: right\">【q04.033】</div>\n",
    "![](media_en/ch04/image40.png) <div style=\"text-align: right\">【q04.034】</div>\n",
    "![](media_en/ch04/image41.png) <div style=\"text-align: right\">【q04.035】</div>\n",
    "![](media_en/ch04/image42.png) <div style=\"text-align: right\">【q04.036】</div>\n"
   ]
  },
  {
   "cell_type": "markdown",
   "metadata": {},
   "source": []
  },
  {
   "cell_type": "markdown",
   "metadata": {},
   "source": []
  },
  {
   "cell_type": "markdown",
   "metadata": {},
   "source": []
  },
  {
   "cell_type": "markdown",
   "metadata": {},
   "source": []
  },
  {
   "cell_type": "markdown",
   "metadata": {},
   "source": []
  },
  {
   "cell_type": "markdown",
   "metadata": {},
   "source": []
  }
 ],
 "metadata": {
  "kernelspec": {
   "display_name": "Python 3",
   "language": "python",
   "name": "python3"
  },
  "language_info": {
   "codemirror_mode": {
    "name": "ipython",
    "version": 3
   },
   "file_extension": ".py",
   "mimetype": "text/x-python",
   "name": "python",
   "nbconvert_exporter": "python",
   "pygments_lexer": "ipython3",
   "version": "3.7.4"
  }
 },
 "nbformat": 4,
 "nbformat_minor": 2
}
