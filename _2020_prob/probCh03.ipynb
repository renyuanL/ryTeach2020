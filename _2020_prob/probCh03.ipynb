{
 "cells": [
  {
   "cell_type": "markdown",
   "metadata": {},
   "source": [
    "# [@Github](https://github.com/renyuanL/ryTeach2020/blob/master/_2020_prob/probCh03.ipynb)\n",
    "\n",
    "# [@Colab](https://colab.research.google.com/github/renyuanL/ryTeach2020/blob/master/_2020_prob/probCh03.ipynb)\n"
   ]
  },
  {
   "cell_type": "markdown",
   "metadata": {},
   "source": [
    "----\n",
    "\n",
    "# Ch03\n",
    "\n",
    "----\n",
    "\n",
    "Some Probability Distribution\n",
    "====\n",
    "\n",
    "一些機率分布\n",
    "====\n",
    "\n",
    "![] (media/Ch03/image6.png) <div style=\"text-align: right\">【p03.000】</div>"
   ]
  },
  {
   "cell_type": "markdown",
   "metadata": {},
   "source": [
    "![](media/Ch03/image7.png) <div style=\"text-align: right\">【p03.001】</div>"
   ]
  },
  {
   "cell_type": "code",
   "execution_count": 1,
   "metadata": {},
   "outputs": [],
   "source": [
    "import numpy as np\n",
    "import scipy as sp\n",
    "import matplotlib.pyplot as pl\n",
    "\n",
    "import scipy.stats as st\n",
    "\n",
    "\n",
    "# 實數小數點後位數少一點以利觀看\n",
    "import numpy as np\n",
    "#np.set_printoptions(precision=3,suppress=True)\n",
    "\n",
    "np.set_printoptions(suppress=True)\n",
    "\n"
   ]
  },
  {
   "cell_type": "code",
   "execution_count": 2,
   "metadata": {},
   "outputs": [
    {
     "data": {
      "text/plain": [
       "(array([ 0,  1,  2,  3,  4,  5,  6,  7,  8,  9, 10]),\n",
       " array([  1.,  10.,  45., 120., 210., 252., 210., 120.,  45.,  10.,   1.]))"
      ]
     },
     "execution_count": 2,
     "metadata": {},
     "output_type": "execute_result"
    }
   ],
   "source": [
    "comb= sp.special.comb\n",
    "n=10\n",
    "x= np.arange(0,n+1)\n",
    "c= comb(n,x)\n",
    "x, c"
   ]
  },
  {
   "cell_type": "code",
   "execution_count": 3,
   "metadata": {},
   "outputs": [
    {
     "data": {
      "image/png": "[encoded data removed]",
      "text/plain": [
       "<Figure size 432x288 with 1 Axes>"
      ]
     },
     "metadata": {
      "needs_background": "light"
     },
     "output_type": "display_data"
    }
   ],
   "source": [
    "pl.bar(x,c); pl.grid('on')"
   ]
  },
  {
   "cell_type": "code",
   "execution_count": 4,
   "metadata": {},
   "outputs": [
    {
     "data": {
      "text/plain": [
       "(array([ 0,  1,  2,  3,  4,  5,  6,  7,  8,  9, 10]),\n",
       " array([0.00097656, 0.00976562, 0.04394531, 0.1171875 , 0.20507812,\n",
       "        0.24609375, 0.20507812, 0.1171875 , 0.04394531, 0.00976562,\n",
       "        0.00097656]))"
      ]
     },
     "execution_count": 4,
     "metadata": {},
     "output_type": "execute_result"
    }
   ],
   "source": [
    "def binom(x,n,p):\n",
    "    prob= comb(n,x) * p**x * (1-p)**(n-x)\n",
    "    return prob\n",
    "\n",
    "b=binom(x, n=10, p=.5)\n",
    "x,b"
   ]
  },
  {
   "cell_type": "code",
   "execution_count": 5,
   "metadata": {},
   "outputs": [
    {
     "data": {
      "image/png": "[encoded data removed]",
      "text/plain": [
       "<Figure size 432x288 with 1 Axes>"
      ]
     },
     "metadata": {
      "needs_background": "light"
     },
     "output_type": "display_data"
    }
   ],
   "source": [
    "pl.bar(x,b); pl.grid('on')\n"
   ]
  },
  {
   "cell_type": "code",
   "execution_count": 6,
   "metadata": {},
   "outputs": [
    {
     "data": {
      "image/png": "[encoded data removed]",
      "text/plain": [
       "<Figure size 432x288 with 1 Axes>"
      ]
     },
     "metadata": {
      "needs_background": "light"
     },
     "output_type": "display_data"
    }
   ],
   "source": [
    "b=binom(x, n=10, p=.2)\n",
    "pl.bar(x,b); pl.grid('on')"
   ]
  },
  {
   "cell_type": "code",
   "execution_count": 7,
   "metadata": {},
   "outputs": [
    {
     "data": {
      "image/png": "[encoded data removed]",
      "text/plain": [
       "<Figure size 432x288 with 1 Axes>"
      ]
     },
     "metadata": {
      "needs_background": "light"
     },
     "output_type": "display_data"
    }
   ],
   "source": [
    "b=binom(x, n=10, p=.8)\n",
    "pl.bar(x,b); pl.grid('on')"
   ]
  },
  {
   "cell_type": "code",
   "execution_count": 8,
   "metadata": {},
   "outputs": [],
   "source": [
    "# 查看 st 中的 binom, 功能強大！\n",
    "\n",
    "st.binom?"
   ]
  },
  {
   "cell_type": "markdown",
   "metadata": {},
   "source": [
    "Notes\n",
    "-----\n",
    "\n",
    "The probability mass function,`pmf`, for `binom` is:\n",
    "\n",
    "- $   f(k) = \\binom{n}{k} p^k (1-p)^{n-k} $\n",
    "\n",
    "- $   k \\in \\{0, 1,..., n\\}. $\n",
    "\n",
    "`binom` takes `n` and `p` as shape parameters.\n"
   ]
  },
  {
   "cell_type": "code",
   "execution_count": 9,
   "metadata": {},
   "outputs": [],
   "source": [
    "st.binom??"
   ]
  },
  {
   "cell_type": "code",
   "execution_count": 10,
   "metadata": {},
   "outputs": [],
   "source": [
    "st.binom.pmf?\n",
    "st.binom.pmf??"
   ]
  },
  {
   "cell_type": "code",
   "execution_count": 11,
   "metadata": {},
   "outputs": [
    {
     "data": {
      "text/plain": [
       "0.0009765625"
      ]
     },
     "execution_count": 11,
     "metadata": {},
     "output_type": "execute_result"
    }
   ],
   "source": [
    "st.binom.pmf(0,n=10,p=.5)"
   ]
  },
  {
   "cell_type": "code",
   "execution_count": 12,
   "metadata": {},
   "outputs": [
    {
     "data": {
      "text/plain": [
       "(array([ 0,  1,  2,  3,  4,  5,  6,  7,  8,  9, 10]),\n",
       " array([0.00097656, 0.00976563, 0.04394531, 0.1171875 , 0.20507813,\n",
       "        0.24609375, 0.20507813, 0.1171875 , 0.04394531, 0.00976563,\n",
       "        0.00097656]))"
      ]
     },
     "execution_count": 12,
     "metadata": {},
     "output_type": "execute_result"
    }
   ],
   "source": [
    "n= 10\n",
    "p= .5\n",
    "x= np.arange(0,n+1)\n",
    "\n",
    "binomPmf= st.binom.pmf(x, n, p)\n",
    "\n",
    "x, binomPmf"
   ]
  },
  {
   "cell_type": "code",
   "execution_count": 13,
   "metadata": {},
   "outputs": [
    {
     "data": {
      "image/png": "[encoded data removed]",
      "text/plain": [
       "<Figure size 432x288 with 1 Axes>"
      ]
     },
     "metadata": {
      "needs_background": "light"
     },
     "output_type": "display_data"
    }
   ],
   "source": [
    "pl.bar(x,binomPmf)\n",
    "pl.grid('on')"
   ]
  },
  {
   "cell_type": "code",
   "execution_count": 14,
   "metadata": {},
   "outputs": [
    {
     "data": {
      "image/png": "[encoded data removed]",
      "text/plain": [
       "<Figure size 432x288 with 1 Axes>"
      ]
     },
     "metadata": {
      "needs_background": "light"
     },
     "output_type": "display_data"
    }
   ],
   "source": [
    "binomCdf= st.binom.cdf(x, n, p)\n",
    "\n",
    "pl.stem(x,binomCdf, use_line_collection=True)\n",
    "\n",
    "pl.grid('on')\n"
   ]
  },
  {
   "cell_type": "code",
   "execution_count": 15,
   "metadata": {},
   "outputs": [
    {
     "data": {
      "image/png": "[encoded data removed]",
      "text/plain": [
       "<Figure size 432x288 with 1 Axes>"
      ]
     },
     "metadata": {
      "needs_background": "light"
     },
     "output_type": "display_data"
    }
   ],
   "source": [
    "pl.bar(x,binomPmf)\n",
    "pl.stem(x,binomCdf, use_line_collection=True)\n",
    "pl.grid('on')\n"
   ]
  },
  {
   "cell_type": "code",
   "execution_count": 16,
   "metadata": {},
   "outputs": [
    {
     "data": {
      "text/plain": [
       "(array(5.), array(2.5), array(0.), array(-0.2))"
      ]
     },
     "execution_count": 16,
     "metadata": {},
     "output_type": "execute_result"
    }
   ],
   "source": [
    "st.binom.stats(n=10, p= .5, moments= 'mvsk') # mean, var, skew, kurt\n"
   ]
  },
  {
   "cell_type": "code",
   "execution_count": 17,
   "metadata": {},
   "outputs": [
    {
     "data": {
      "text/plain": [
       "(2.0, 8.0)"
      ]
     },
     "execution_count": 17,
     "metadata": {},
     "output_type": "execute_result"
    }
   ],
   "source": [
    "st.binom.interval(alpha= .95, n=10, p=.5)"
   ]
  },
  {
   "cell_type": "code",
   "execution_count": 18,
   "metadata": {},
   "outputs": [
    {
     "data": {
      "text/plain": [
       "0.9785156250000009"
      ]
     },
     "execution_count": 18,
     "metadata": {},
     "output_type": "execute_result"
    }
   ],
   "source": [
    "st.binom.pmf(k= [2,3,4,5,6,7,8], n=10, p=.5).sum()"
   ]
  },
  {
   "cell_type": "markdown",
   "metadata": {},
   "source": [
    "# Ref: \n",
    "\n",
    "Binomial distribution\n",
    "====\n",
    "\n",
    "出自Wikipedia\n",
    "----\n",
    "\n",
    "https://en.wikipedia.org/wiki/Binomial_distribution\n"
   ]
  },
  {
   "cell_type": "code",
   "execution_count": null,
   "metadata": {},
   "outputs": [],
   "source": []
  },
  {
   "cell_type": "markdown",
   "metadata": {},
   "source": [
    "![](media/Ch03/image8.png) <div style=\"text-align: right\">【p03.002】</div>"
   ]
  },
  {
   "cell_type": "markdown",
   "metadata": {},
   "source": [
    "----\n",
    "### Ex 3.1:\n",
    "\n",
    "The probability that a certain kind of component will 【survive】 a *shock test* is 【3/4】.\n",
    "\n",
    "Find the ```probability``` \n",
    "\n",
    "```that exactly 【2】 of the next 【4】 components tested 【survive】```.\n",
    "\n",
    "----"
   ]
  },
  {
   "cell_type": "markdown",
   "metadata": {},
   "source": [
    "### [rySol 3.1]\n",
    "\n",
    "$\n",
    "b\n",
    "\\left( \n",
    "    k= 2; \n",
    "    n= 4, \n",
    "    p= \\frac{3}{4} \n",
    "\\right)\n",
    "\\\\\\\\\n",
    "=\n",
    "\\binom{4}{2}\n",
    "*\n",
    "\\left(\n",
    "    \\frac{3}{4}\n",
    "\\right)^2\n",
    "*\n",
    "\\left(\n",
    "    \\frac{1}{4}\n",
    "\\right)^2\n",
    "\\\\\\\\\n",
    "=\n",
    "\\left(\n",
    "    \\frac{4!}{2! 2!}\n",
    "\\right)\n",
    "*\n",
    "\\left(\n",
    "    \\frac{3^2}{4^4}\n",
    "\\right)\n",
    "\\\\\\\\\n",
    "=\n",
    "\\frac{27}{128}\n",
    "\\\\\\\\\n",
    "= 0.2109\n",
    "$"
   ]
  },
  {
   "cell_type": "code",
   "execution_count": 19,
   "metadata": {},
   "outputs": [
    {
     "data": {
      "text/plain": [
       "0.21093750000000006"
      ]
     },
     "execution_count": 19,
     "metadata": {},
     "output_type": "execute_result"
    }
   ],
   "source": [
    "# [rySol 3.1]\n",
    "\n",
    "st.binom.pmf(k=2, n= 4, p=3/4)"
   ]
  },
  {
   "cell_type": "code",
   "execution_count": 20,
   "metadata": {},
   "outputs": [
    {
     "data": {
      "text/plain": [
       "(0.2109375, 0.2109375, 0.2109375)"
      ]
     },
     "execution_count": 20,
     "metadata": {},
     "output_type": "execute_result"
    }
   ],
   "source": [
    "# just using python as a calclulator ...\n",
    "\n",
    "ans1= 27/128\n",
    "\n",
    "ans2= comb(4,2) * (3/4)**2 * (1/4)**2\n",
    "\n",
    "fact= sp.special.factorial\n",
    "\n",
    "ans3= fact(4)/fact(2)/fact(2) * 3**2 / 4**4\n",
    "\n",
    "ans1, ans2, ans3"
   ]
  },
  {
   "cell_type": "markdown",
   "metadata": {},
   "source": []
  },
  {
   "cell_type": "markdown",
   "metadata": {},
   "source": [
    "![](media/Ch03/image18.png) <div style=\"text-align: right\">【p03.003】</div>"
   ]
  },
  {
   "cell_type": "markdown",
   "metadata": {},
   "source": [
    "### Example 3.2:\n",
    "    \n",
    "The 【probability】 that a patient 【recovers】 from a rare blood disease is 【0.4】. \n",
    "\n",
    "If 【15】 people are known to have contracted this disease, \n",
    "what is the probability that \n",
    "- (a) ```at least 10``` 【survive】 \n",
    "- (b) ```from 3 to 8``` survive\n",
    "- (c) ```exactly 5``` survive\n",
    "\n"
   ]
  },
  {
   "cell_type": "markdown",
   "metadata": {},
   "source": [
    "### 【rySol 3.2】\n",
    "\n",
    "* 康復機率 p= .4\n",
    "* 患病人數 n= 15\n",
    "* 康復人數 (隨機變數): X\n",
    "----\n",
    "- (a) \"at least 10\" == \" X>=10\"\n",
    "- (b) \"from 3 to 8\" == \"3 <= X <= 8\"\n",
    "- (c) \"exactly 5\" == \" X==5 \"\n",
    "----\n",
    "\n",
    "(a)\n",
    "\n",
    "\" X>=10\".prob =\n",
    "\n",
    "$\n",
    "P(\"X \\ge 10\")\\\\\\\\\n",
    "=  \\sum_{x=10}^{15} binom(x;n,p)\n",
    "$\n",
    "\n",
    "(b)\n",
    "\n",
    "\" 3 <= X <= 8\".prob =\n",
    "\n",
    "$\n",
    "P(\"3 \\le X \\le 8\")\\\\\\\\\n",
    "=  \\sum_{x=3}^{8} binom(x;n,p)\n",
    "$\n",
    "\n",
    "(c)\n",
    "\n",
    "\" X == 5\".prob =\n",
    "\n",
    "$\n",
    "P(\"X == 5\")\\\\\\\\\n",
    "=  binom(x=5;n,p)\n",
    "$\n"
   ]
  },
  {
   "cell_type": "code",
   "execution_count": 21,
   "metadata": {},
   "outputs": [
    {
     "data": {
      "text/plain": [
       "array([0.02448564, 0.00741989, 0.00164886, 0.00025367, 0.00002416,\n",
       "       0.00000107])"
      ]
     },
     "execution_count": 21,
     "metadata": {},
     "output_type": "execute_result"
    }
   ],
   "source": [
    "# (a)\n",
    "st.binom.pmf(k=[10,11,12,13,14,15], n=15, p=.4)"
   ]
  },
  {
   "cell_type": "code",
   "execution_count": 22,
   "metadata": {},
   "outputs": [
    {
     "data": {
      "text/plain": [
       "0.033833302884352094"
      ]
     },
     "execution_count": 22,
     "metadata": {},
     "output_type": "execute_result"
    }
   ],
   "source": [
    "st.binom.pmf(k=[10,11,12,13,14,15], n=15, p=.4).sum()"
   ]
  },
  {
   "cell_type": "code",
   "execution_count": 23,
   "metadata": {},
   "outputs": [
    {
     "data": {
      "text/plain": [
       "0.8778385910661144"
      ]
     },
     "execution_count": 23,
     "metadata": {},
     "output_type": "execute_result"
    }
   ],
   "source": [
    "# (b)\n",
    "st.binom.pmf(k=[3,4,5,6,7,8], n=15, p=.4).sum()"
   ]
  },
  {
   "cell_type": "code",
   "execution_count": 24,
   "metadata": {},
   "outputs": [
    {
     "data": {
      "text/plain": [
       "0.18593784476467232"
      ]
     },
     "execution_count": 24,
     "metadata": {},
     "output_type": "execute_result"
    }
   ],
   "source": [
    "# (c)\n",
    "st.binom.pmf(k=5, n=15, p=.4)"
   ]
  },
  {
   "cell_type": "code",
   "execution_count": null,
   "metadata": {},
   "outputs": [],
   "source": []
  },
  {
   "cell_type": "markdown",
   "metadata": {},
   "source": [
    "![](media/Ch03/image19.png) <div style=\"text-align: right\">【p03.004】</div>\n",
    "![](media/Ch03/image20.png) <div style=\"text-align: right\">【p03.005】</div>"
   ]
  },
  {
   "cell_type": "markdown",
   "metadata": {},
   "source": [
    "![](media/Ch03/image21.png) <div style=\"text-align: right\">【p03.006】</div>"
   ]
  },
  {
   "cell_type": "markdown",
   "metadata": {},
   "source": [
    "\n",
    "## Th 3.1\n",
    "\n",
    "\n",
    "![](media/Ch03/image22.png) <div style=\"text-align: right\">【p03.007】</div>\n"
   ]
  },
  {
   "cell_type": "markdown",
   "metadata": {},
   "source": [
    "### ryPf 3.1\n",
    "\n",
    "----\n",
    "\n",
    "#### Mean and Variance of Binomial Random Variables\n",
    "\n",
    "\n",
    "http://www.math.ubc.ca/~feldman/m302/binomial.pdf\n",
    "\n",
    "----\n",
    "\n",
    "#### The Binomial Distribution: Mathematically Deriving the Mean and Variance\n",
    "@ youTube\n",
    "\n",
    "2 種 證明方式，簡單vs複雜。\n",
    "\n",
    "觀看時記得打開字幕。\n",
    "\n",
    "https://youtu.be/8fqkQRjcR1M\n",
    "\n"
   ]
  },
  {
   "cell_type": "markdown",
   "metadata": {},
   "source": [
    "### 【ryPf0301】\n",
    "\n",
    "![](fg/fg_ryPf0301_1.png)\n",
    "![](fg/fg_ryPf0301_2.png)\n",
    "![](fg/fg_ryPf0301_3.png)\n",
    "![](fg/fg_ryPf0301_4.png)\n",
    "![](fg/fg_ryPf0301_5.png)\n",
    "![](fg/fg_ryPf0301_6.png)\n"
   ]
  },
  {
   "cell_type": "markdown",
   "metadata": {},
   "source": []
  },
  {
   "cell_type": "markdown",
   "metadata": {},
   "source": []
  },
  {
   "cell_type": "markdown",
   "metadata": {},
   "source": []
  },
  {
   "cell_type": "markdown",
   "metadata": {},
   "source": [
    "![](media/Ch03/image23.png) <div style=\"text-align: right\">【p03.008】</div>"
   ]
  },
  {
   "cell_type": "code",
   "execution_count": 25,
   "metadata": {},
   "outputs": [
    {
     "data": {
      "text/plain": [
       "0.26682793200000005"
      ]
     },
     "execution_count": 25,
     "metadata": {},
     "output_type": "execute_result"
    }
   ],
   "source": [
    "# (a) 'X==3'.prob=\n",
    "st.binom.pmf(k=3, n=10, p=.3)"
   ]
  },
  {
   "cell_type": "code",
   "execution_count": 26,
   "metadata": {},
   "outputs": [
    {
     "data": {
      "text/plain": [
       "0.35038928159999955"
      ]
     },
     "execution_count": 26,
     "metadata": {},
     "output_type": "execute_result"
    }
   ],
   "source": [
    "# (b) 'X>3'.prob=\n",
    "st.binom.sf(k=3, n=10, p=.3)"
   ]
  },
  {
   "cell_type": "markdown",
   "metadata": {},
   "source": []
  },
  {
   "cell_type": "markdown",
   "metadata": {},
   "source": []
  },
  {
   "cell_type": "markdown",
   "metadata": {},
   "source": [
    "![](media/Ch03/image24.png) <div style=\"text-align: right\">【p03.009】</div>"
   ]
  },
  {
   "cell_type": "code",
   "execution_count": 27,
   "metadata": {},
   "outputs": [
    {
     "data": {
      "text/plain": [
       "0.03675690899999997"
      ]
     },
     "execution_count": 27,
     "metadata": {},
     "output_type": "execute_result"
    }
   ],
   "source": [
    "# \"X==6\".prob=\n",
    "st.binom.pmf(k=6, n=10, p=.30)"
   ]
  },
  {
   "cell_type": "code",
   "execution_count": 28,
   "metadata": {},
   "outputs": [
    {
     "data": {
      "text/plain": [
       "0.010592078399999993"
      ]
     },
     "execution_count": 28,
     "metadata": {},
     "output_type": "execute_result"
    }
   ],
   "source": [
    "# \"X>6\".prob=\n",
    "st.binom.pmf(k=[7,8,9,10], n=10, p=.30).sum()"
   ]
  },
  {
   "cell_type": "code",
   "execution_count": 29,
   "metadata": {},
   "outputs": [
    {
     "data": {
      "text/plain": [
       "0.0105920784"
      ]
     },
     "execution_count": 29,
     "metadata": {},
     "output_type": "execute_result"
    }
   ],
   "source": [
    "st.binom.sf(k=6, n=10, p=.30) # k > 6 (不含 6)"
   ]
  },
  {
   "cell_type": "code",
   "execution_count": 30,
   "metadata": {},
   "outputs": [
    {
     "data": {
      "text/plain": [
       "0.04734898739999995"
      ]
     },
     "execution_count": 30,
     "metadata": {},
     "output_type": "execute_result"
    }
   ],
   "source": [
    "# \"X>=6\".prob=\n",
    "st.binom.sf(k=5, n=10, p=.30) # k > 5 (不含 5)"
   ]
  },
  {
   "cell_type": "markdown",
   "metadata": {},
   "source": [
    "### 【rySol 3.5】\n",
    "\n",
    "解釋一下上面計算的意義：\n",
    "\n",
    "在這個計算過程中，\n",
    "我們有個最初的【假設】\n",
    "\n",
    "$H_0$: \"30% 的水井有雜質\"，\n",
    "\n",
    "然後根據機率論的嚴謹數學邏輯計算出\n",
    "\n",
    "P(\"X==6\") == .0368\n",
    "\n",
    "P(\"X>=6\") == .0473\n",
    "\n",
    "不管 .0368 或是 .0473,\n",
    "一般人的認知都可視為 很小 的機率值。\n",
    "也就是不大可能會發生。\n",
    "\n",
    "然而，實驗結果是 它 ($\"X\\ge6\"$, 也就是所謂的【證據】) 確實發生了！！\n",
    "\n",
    "因此，一個合理的推論是：\n",
    "\n",
    "最初的【假設】 $H_0$ 有問題，\n",
    "\n",
    "它 ($H_0$) 很大的可能是\n",
    "\n",
    "【虛假的】、【錯誤的】、【不真實的】！！！\n",
    "\n",
    "----\n",
    "\n",
    "上述 P(\"X>=6\") == .0473 更嚴謹的寫法是採用條件機率的表示法：\n",
    "\n",
    "P(\"X>=6\" | \" H0: p== .30 \") == .0473\n",
    "\n",
    "亦即 假設 H0: \"p== .30\" 的條件下， \n",
    "\n",
    "\"X>=6\" 這個證據會發生的機率(經嚴密的數學計算) 為 .0473 (此值很小)。\n",
    "\n",
    "但現實卻是 這個證據 \"X>=6\" 確實發生了！！\n",
    "\n",
    "根據正常人的邏輯：\n",
    "\n",
    "1. \"若 p 則 q\"  === \" 若 ~q 則 ~p\"\n",
    "2. \"若 p 則 ~q\" === \" 若 q 則 ~p\"\n",
    "\n",
    "3. \"若 【假設為真】 則 【證據不發生】\" === \"若 【證據有發生】 則 【假設不為真】\"\n",
    "4. \"若 【你沒殺人】 則 【兇刀不會在你手上】\" === \"若 【兇刀在你手上】 則 【你沒殺人】不為真\"\n",
    "\n",
    "5. \n",
    "\"若 【你沒殺人】 則 【兇刀會在你手上 ```機率很小```\" \n",
    "=== \"若 【兇刀確實在你手上】 則 【你沒殺人 ```機率很小```】\"\n",
    "\n"
   ]
  },
  {
   "cell_type": "code",
   "execution_count": null,
   "metadata": {},
   "outputs": [],
   "source": []
  },
  {
   "cell_type": "code",
   "execution_count": 31,
   "metadata": {},
   "outputs": [
    {
     "data": {
      "text/plain": [
       "0.35038928159999955"
      ]
     },
     "execution_count": 31,
     "metadata": {},
     "output_type": "execute_result"
    }
   ],
   "source": [
    "# (b) 'X>3|H0: p=.3'.prob=\n",
    "st.binom.sf(k=3, n=10, p=.3)"
   ]
  },
  {
   "cell_type": "code",
   "execution_count": 32,
   "metadata": {},
   "outputs": [
    {
     "data": {
      "text/plain": [
       "0.15026833259999994"
      ]
     },
     "execution_count": 32,
     "metadata": {},
     "output_type": "execute_result"
    }
   ],
   "source": [
    "# (b) 'X>4|H0: p=.3'.prob=\n",
    "st.binom.sf(k=4, n=10, p=.3)"
   ]
  },
  {
   "cell_type": "code",
   "execution_count": 33,
   "metadata": {},
   "outputs": [
    {
     "data": {
      "text/plain": [
       "0.04734898739999995"
      ]
     },
     "execution_count": 33,
     "metadata": {},
     "output_type": "execute_result"
    }
   ],
   "source": [
    "# (b) 'X>5|H0: p=.3'.prob=\n",
    "st.binom.sf(k=5, n=10, p=.3)"
   ]
  },
  {
   "cell_type": "code",
   "execution_count": 34,
   "metadata": {},
   "outputs": [
    {
     "data": {
      "text/plain": [
       "0.0105920784"
      ]
     },
     "execution_count": 34,
     "metadata": {},
     "output_type": "execute_result"
    }
   ],
   "source": [
    "# (b) 'X>6|H0: p=.3'.prob=\n",
    "st.binom.sf(k=6, n=10, p=.3)"
   ]
  },
  {
   "cell_type": "code",
   "execution_count": 35,
   "metadata": {},
   "outputs": [
    {
     "data": {
      "text/plain": [
       "0.0015903863999999993"
      ]
     },
     "execution_count": 35,
     "metadata": {},
     "output_type": "execute_result"
    }
   ],
   "source": [
    "# (b) 'X>7|H0: p=.3'.prob=\n",
    "st.binom.sf(k=7, n=10, p=.3)\n"
   ]
  },
  {
   "cell_type": "code",
   "execution_count": 36,
   "metadata": {},
   "outputs": [
    {
     "data": {
      "text/plain": [
       "0.012294553600000008"
      ]
     },
     "execution_count": 36,
     "metadata": {},
     "output_type": "execute_result"
    }
   ],
   "source": [
    "# (b) 'X>7|H0: p=.4'.prob=\n",
    "st.binom.sf(k=7, n=10, p=.4)"
   ]
  },
  {
   "cell_type": "code",
   "execution_count": 37,
   "metadata": {},
   "outputs": [
    {
     "data": {
      "text/plain": [
       "0.054687500000000014"
      ]
     },
     "execution_count": 37,
     "metadata": {},
     "output_type": "execute_result"
    }
   ],
   "source": [
    "# (b) 'X>7|H0: p=.5'.prob=\n",
    "st.binom.sf(k=7, n=10, p=.5)"
   ]
  },
  {
   "cell_type": "code",
   "execution_count": 38,
   "metadata": {},
   "outputs": [
    {
     "data": {
      "text/plain": [
       "0.16728975360000004"
      ]
     },
     "execution_count": 38,
     "metadata": {},
     "output_type": "execute_result"
    }
   ],
   "source": [
    "# (b) 'X>7|H0: p=.5'.prob=\n",
    "st.binom.sf(k=7, n=10, p=.6)"
   ]
  },
  {
   "cell_type": "code",
   "execution_count": 39,
   "metadata": {},
   "outputs": [
    {
     "data": {
      "text/plain": [
       "array([0.00159039, 0.01229455, 0.0546875 , 0.16728975, 0.38278279,\n",
       "       0.67779953])"
      ]
     },
     "execution_count": 39,
     "metadata": {},
     "output_type": "execute_result"
    }
   ],
   "source": [
    "# 把各種情境 一次性的 計算：\n",
    "p= [.3, .4, .5, .6, .7, .8]\n",
    "\n",
    "# (b) 'X>7|H0: p= p'.prob=\n",
    "st.binom.sf(k=7, n=10, p= p)"
   ]
  },
  {
   "cell_type": "code",
   "execution_count": 40,
   "metadata": {},
   "outputs": [
    {
     "data": {
      "text/plain": [
       "array([0.35038928, 0.36689674, 0.37695313, 0.3822806 , 0.38278279,\n",
       "       0.37580964])"
      ]
     },
     "execution_count": 40,
     "metadata": {},
     "output_type": "execute_result"
    }
   ],
   "source": [
    "# 把各種情境 一次性的 計算：\n",
    "p= [.3, .4, .5, .6, .7, .8]\n",
    "k= [3, 4, 5, 6, 7, 8]\n",
    "\n",
    "# (b) 'X>k|H0: p= p'.prob=\n",
    "st.binom.sf(k= k, n=10, p= p)"
   ]
  },
  {
   "cell_type": "code",
   "execution_count": 41,
   "metadata": {},
   "outputs": [
    {
     "data": {
      "text/plain": [
       "(array([[0.3],\n",
       "        [0.4],\n",
       "        [0.5],\n",
       "        [0.6],\n",
       "        [0.7],\n",
       "        [0.8]]), array([[3, 4, 5, 6, 7, 8]]))"
      ]
     },
     "execution_count": 41,
     "metadata": {},
     "output_type": "execute_result"
    }
   ],
   "source": [
    "# 把各種情境 一次性的 計算：\n",
    "p= [.3, .4, .5, .6, .7, .8]\n",
    "k= [3, 4, 5, 6, 7,8]\n",
    "\n",
    "p=np.array(p).reshape(-1,1) # 垂直型 2軸陣列 pN x 1\n",
    "k=np.array(k).reshape(1,-1) # 水平型 2軸陣列 1 x kN\n",
    "\n",
    "p, k"
   ]
  },
  {
   "cell_type": "code",
   "execution_count": 42,
   "metadata": {},
   "outputs": [
    {
     "data": {
      "text/plain": [
       "array([[0.35038928, 0.15026833, 0.04734899, 0.01059208, 0.00159039,\n",
       "        0.00014369],\n",
       "       [0.6177194 , 0.36689674, 0.16623862, 0.05476188, 0.01229455,\n",
       "        0.00167772],\n",
       "       [0.828125  , 0.62304687, 0.37695313, 0.171875  , 0.0546875 ,\n",
       "        0.01074219],\n",
       "       [0.94523812, 0.83376138, 0.63310326, 0.3822806 , 0.16728975,\n",
       "        0.0463574 ],\n",
       "       [0.98940792, 0.95265101, 0.84973167, 0.64961072, 0.38278279,\n",
       "        0.14930835],\n",
       "       [0.99913564, 0.99363062, 0.9672065 , 0.87912612, 0.67779953,\n",
       "        0.37580964]])"
      ]
     },
     "execution_count": 42,
     "metadata": {},
     "output_type": "execute_result"
    }
   ],
   "source": [
    "# (b) 'X>k|H0: p= p'.prob=\n",
    "st.binom.sf(k= k, n=10, p= p) # 平面型 2軸陣列 pN x kN"
   ]
  },
  {
   "cell_type": "code",
   "execution_count": 43,
   "metadata": {},
   "outputs": [],
   "source": [
    "# 實數小數點後位數少一點以利觀看\n",
    "\n",
    "import numpy as np\n",
    "np.set_printoptions(precision=3, suppress=True)\n"
   ]
  },
  {
   "cell_type": "code",
   "execution_count": 44,
   "metadata": {},
   "outputs": [],
   "source": [
    "np.set_printoptions?"
   ]
  },
  {
   "cell_type": "code",
   "execution_count": 45,
   "metadata": {},
   "outputs": [
    {
     "data": {
      "text/plain": [
       "array([[0.35 , 0.15 , 0.047, 0.011, 0.002, 0.   ],\n",
       "       [0.618, 0.367, 0.166, 0.055, 0.012, 0.002],\n",
       "       [0.828, 0.623, 0.377, 0.172, 0.055, 0.011],\n",
       "       [0.945, 0.834, 0.633, 0.382, 0.167, 0.046],\n",
       "       [0.989, 0.953, 0.85 , 0.65 , 0.383, 0.149],\n",
       "       [0.999, 0.994, 0.967, 0.879, 0.678, 0.376]])"
      ]
     },
     "execution_count": 45,
     "metadata": {},
     "output_type": "execute_result"
    }
   ],
   "source": [
    "# (b) 'X>k|H0: p= p'.prob=\n",
    "st.binom.sf(k= k, n=10, p= p) # 平面型 2軸陣列 pN x kN\n"
   ]
  },
  {
   "cell_type": "code",
   "execution_count": 46,
   "metadata": {},
   "outputs": [],
   "source": [
    "_='''     k=3    k=4     k=5       k=6      k=7      k=8\n",
    "p=.3 ==> [0.35 , 0.15 , 【0.047】, 0.011,   0.002,   0.   ],\n",
    "p=.4 ==> [0.618, 0.367,   0.166,   0.055, 【0.012】, 0.002],\n",
    "p=.5 ==> [0.828, 0.623,   0.377,   0.172,   0.055, 【0.011】],\n",
    "p=.6 ==> [0.945, 0.834,   0.633,   0.382,   0.167, 【0.046】],\n",
    "p=.7 ==> [0.989, 0.953,   0.85 ,   0.65 ,   0.383,   0.149],\n",
    "p=.8 ==> [0.999, 0.994,   0.967,   0.879,   0.678,   0.376]])\n",
    "'''\n",
    "# 如果 大家同意 機率值 在 【0.05】 以下，可算是 【小】\n",
    "# 那麼， \n",
    "# 當 p= .3 時， 'X>5'.prob = .047 才算【小】，才能據以 【否決】假設 p= .3\n",
    "# 當 p= .4 時， 'X>7'.prob = .012 才算【小】。才能據以 【否決】假設 p= .4\n",
    "# 當 p= .5 時， 'X>8'.prob = .011 才算【小】。才能據以 【否決】假設 p= .5\n",
    "# 當 p= .6 時， 'X>8'.prob = .046 才算【小】。才能據以 【否決】假設 p= .6"
   ]
  },
  {
   "cell_type": "code",
   "execution_count": null,
   "metadata": {},
   "outputs": [],
   "source": []
  },
  {
   "cell_type": "code",
   "execution_count": null,
   "metadata": {},
   "outputs": [],
   "source": []
  },
  {
   "cell_type": "markdown",
   "metadata": {},
   "source": []
  },
  {
   "cell_type": "markdown",
   "metadata": {},
   "source": [
    "![](media/Ch03/image25.png) <div style=\"text-align: right\">【p03.010】</div>"
   ]
  },
  {
   "cell_type": "markdown",
   "metadata": {},
   "source": [
    "![](media/Ch03/image29.png) <div style=\"text-align: right\">【p03.012】</div>\n",
    "\n",
    "![](media/Ch03/image28.png) <div style=\"text-align: right\">【p03.011】</div>"
   ]
  },
  {
   "cell_type": "code",
   "execution_count": 47,
   "metadata": {},
   "outputs": [],
   "source": [
    "st.multinomial.pmf?"
   ]
  },
  {
   "cell_type": "markdown",
   "metadata": {},
   "source": [
    "$$\n",
    "f(x_1, x_2, ..., x_k) = \\frac{n!}{x_1! \\cdots x_k!} p_1^{x_1} \\cdots p_k^{x_k}\n",
    "$$"
   ]
  },
  {
   "cell_type": "code",
   "execution_count": null,
   "metadata": {},
   "outputs": [],
   "source": []
  },
  {
   "cell_type": "code",
   "execution_count": 48,
   "metadata": {},
   "outputs": [
    {
     "data": {
      "text/plain": [
       "0.11270300936510357"
      ]
     },
     "execution_count": 48,
     "metadata": {},
     "output_type": "execute_result"
    }
   ],
   "source": [
    "st.multinomial.pmf(x= [2,1,3], p= [2/9, 1/6, 11/18], n= 6)"
   ]
  },
  {
   "cell_type": "code",
   "execution_count": null,
   "metadata": {},
   "outputs": [],
   "source": []
  },
  {
   "cell_type": "code",
   "execution_count": 64,
   "metadata": {},
   "outputs": [
    {
     "data": {
      "text/plain": [
       "((28, 3), array([[0, 0, 6],\n",
       "        [0, 1, 5],\n",
       "        [0, 2, 4],\n",
       "        [0, 3, 3],\n",
       "        [0, 4, 2],\n",
       "        [0, 5, 1],\n",
       "        [0, 6, 0],\n",
       "        [1, 0, 5],\n",
       "        [1, 1, 4],\n",
       "        [1, 2, 3],\n",
       "        [1, 3, 2],\n",
       "        [1, 4, 1],\n",
       "        [1, 5, 0],\n",
       "        [2, 0, 4],\n",
       "        [2, 1, 3],\n",
       "        [2, 2, 2],\n",
       "        [2, 3, 1],\n",
       "        [2, 4, 0],\n",
       "        [3, 0, 3],\n",
       "        [3, 1, 2],\n",
       "        [3, 2, 1],\n",
       "        [3, 3, 0],\n",
       "        [4, 0, 2],\n",
       "        [4, 1, 1],\n",
       "        [4, 2, 0],\n",
       "        [5, 0, 1],\n",
       "        [5, 1, 0],\n",
       "        [6, 0, 0]]))"
      ]
     },
     "execution_count": 64,
     "metadata": {},
     "output_type": "execute_result"
    }
   ],
   "source": [
    "#\n",
    "# generate all possible X=[x1,x2,x3]\n",
    "#\n",
    "n= 6\n",
    "X= [(x1,x2,x3) \n",
    " for x1 in range(n+1) \n",
    " for x2 in range(n+1) \n",
    " for x3 in range(n+1)\n",
    " if x1+x2+x3==n]\n",
    "X= np.array(X)\n",
    "X.shape, X"
   ]
  },
  {
   "cell_type": "code",
   "execution_count": 65,
   "metadata": {},
   "outputs": [],
   "source": [
    "# x1+x2+x3==6 \n",
    "# 0<= x1, x2, x3 <=6\n",
    "# 所有解(x1,x2,x3) 的個數 =\n",
    "# 1 1 + 1 1 + 1 1 : 6 個 1, 2 個 + 的排列總數 =\n",
    "# (6+2)! / (2! 6!) =\n",
    "# comb(8, 2) = (8*7)/(2*1) = 28\n"
   ]
  },
  {
   "cell_type": "code",
   "execution_count": 63,
   "metadata": {},
   "outputs": [
    {
     "data": {
      "text/plain": [
       "(array([0.052, 0.085, 0.058, 0.021, 0.004, 0.   , 0.   , 0.114, 0.155,\n",
       "        0.085, 0.023, 0.003, 0.   , 0.103, 0.113, 0.046, 0.008, 0.001,\n",
       "        0.05 , 0.041, 0.011, 0.001, 0.014, 0.007, 0.001, 0.002, 0.001,\n",
       "        0.   ]), array([[0.   , 0.   , 6.   , 0.052],\n",
       "        [0.   , 1.   , 5.   , 0.085],\n",
       "        [0.   , 2.   , 4.   , 0.058],\n",
       "        [0.   , 3.   , 3.   , 0.021],\n",
       "        [0.   , 4.   , 2.   , 0.004],\n",
       "        [0.   , 5.   , 1.   , 0.   ],\n",
       "        [0.   , 6.   , 0.   , 0.   ],\n",
       "        [1.   , 0.   , 5.   , 0.114],\n",
       "        [1.   , 1.   , 4.   , 0.155],\n",
       "        [1.   , 2.   , 3.   , 0.085],\n",
       "        [1.   , 3.   , 2.   , 0.023],\n",
       "        [1.   , 4.   , 1.   , 0.003],\n",
       "        [1.   , 5.   , 0.   , 0.   ],\n",
       "        [2.   , 0.   , 4.   , 0.103],\n",
       "        [2.   , 1.   , 3.   , 0.113],\n",
       "        [2.   , 2.   , 2.   , 0.046],\n",
       "        [2.   , 3.   , 1.   , 0.008],\n",
       "        [2.   , 4.   , 0.   , 0.001],\n",
       "        [3.   , 0.   , 3.   , 0.05 ],\n",
       "        [3.   , 1.   , 2.   , 0.041],\n",
       "        [3.   , 2.   , 1.   , 0.011],\n",
       "        [3.   , 3.   , 0.   , 0.001],\n",
       "        [4.   , 0.   , 2.   , 0.014],\n",
       "        [4.   , 1.   , 1.   , 0.007],\n",
       "        [4.   , 2.   , 0.   , 0.001],\n",
       "        [5.   , 0.   , 1.   , 0.002],\n",
       "        [5.   , 1.   , 0.   , 0.001],\n",
       "        [6.   , 0.   , 0.   , 0.   ]]))"
      ]
     },
     "execution_count": 63,
     "metadata": {},
     "output_type": "execute_result"
    }
   ],
   "source": [
    "# Calculate the pmf for all possible combinations of (x1,x2,x3)\n",
    "\n",
    "n= 6\n",
    "p= [2/9, 1/6, 11/18]\n",
    "P= st.multinomial.pmf(x= X, p= p, n=n)\n",
    "XP= np.hstack((X, P.reshape(-1,1)))\n",
    "\n",
    "P, XP"
   ]
  },
  {
   "cell_type": "code",
   "execution_count": null,
   "metadata": {},
   "outputs": [],
   "source": [
    "# specify dtype as the data field for sorting\n",
    "\n",
    "XP.dtype=[  ('x1', float),\n",
    "            ('x2', float),\n",
    "            ('x3', float),\n",
    "            ('pmf',float)]\n",
    "np.sort(XP, axis=0, order=['pmf'])[::-1]"
   ]
  },
  {
   "cell_type": "code",
   "execution_count": null,
   "metadata": {},
   "outputs": [],
   "source": [
    "# 隨機產生 size=10 組 (x1,x2,x3)，計算其機率，然後依機率值排序\n",
    "\n",
    "X10= st.multinomial.rvs(n=n, p=p, size=10)\n",
    "X10\n",
    "\n",
    "P10= st.multinomial.pmf(x=X10, n=n, p=p)\n",
    "P10\n",
    "\n",
    "XP10= np.hstack((X10, P10.reshape(-1,1)))\n",
    "XP10\n",
    "\n",
    "# specify dtype as the data field for sorting\n",
    "\n",
    "XP10.dtype=[('x1', float),\n",
    "            ('x2', float),\n",
    "            ('x3', float),\n",
    "            ('pmf',float)]\n",
    "XP10= np.sort(XP10, axis=0, order=['pmf'])[::-1]\n",
    "XP10"
   ]
  },
  {
   "cell_type": "markdown",
   "metadata": {},
   "source": []
  },
  {
   "cell_type": "markdown",
   "metadata": {},
   "source": [
    "----\n",
    "### 超幾何分布 (Hypergeometric)\n",
    "\n",
    "![](media/Ch03/image34.png) <div style=\"text-align: right\">【p03.014】</div>\n",
    "\n"
   ]
  },
  {
   "cell_type": "code",
   "execution_count": null,
   "metadata": {},
   "outputs": [],
   "source": [
    "st.hypergeom?"
   ]
  },
  {
   "cell_type": "markdown",
   "metadata": {},
   "source": [
    "Notes\n",
    "-----\n",
    "\n",
    "The symbols used to denote the shape parameters (`M`, `n`, and `N`) are not\n",
    "universally accepted.  See the Examples for a clarification of the\n",
    "definitions used here.\n",
    "\n",
    "The probability mass function is defined as,\n",
    "\n",
    ".. math:: \n",
    "\n",
    "$\n",
    "p(k, M, n, N) = \\frac{\\binom{n}{k} \\binom{M - n}{N - k}}\n",
    "                               {\\binom{M}{N}}\n",
    "$\n",
    "\n",
    "for :math:\n",
    "\n",
    "$\n",
    "`k \\in [\\max(0, N - M + n), \\min(n, N)]`, \n",
    "$\n",
    "\n",
    "where the binomial\n",
    "coefficients are defined as,\n",
    "\n",
    ".. math:: \n",
    "\n",
    "$\n",
    "\\binom{n}{k} \\equiv \\frac{n!}{k! (n - k)!}.\n",
    "$"
   ]
  },
  {
   "cell_type": "markdown",
   "metadata": {},
   "source": [
    "### Hypergeometric distribution\n",
    "\n",
    "出自Wikipedia\n",
    "\n",
    "\n",
    "![image.png](fg/fg_HyperGeom_01.png)\n",
    "\n",
    "![image.png](fg/fg_HyperGeom_02.png)\n"
   ]
  },
  {
   "cell_type": "code",
   "execution_count": null,
   "metadata": {},
   "outputs": [],
   "source": [
    "# 'X=0 | N=10,K=2,n=3'.prob=\n",
    "\n",
    "# popuplation size,  M = 10\n",
    "# population success size, K\n",
    "# sample size, n=3\n",
    "# ----\n",
    "# sample success number, k (the random variable)\n",
    "\n",
    "popuSize= 500\n",
    "succSize= 50\n",
    "sampSize= 100\n",
    "k= succNum= np.arange(0, sampSize+1)\n",
    "\n",
    "# in scipy stats, the 3 params= M, n, N =='popuSize', succSize, sampSize\n",
    "pmf= st.hypergeom.pmf(k=succNum, M= popuSize, n= succSize, N= sampSize)\n",
    "pl.plot(k,pmf);pl.grid('on')"
   ]
  },
  {
   "cell_type": "markdown",
   "metadata": {},
   "source": [
    "![](media/Ch03/image33.png) <div style=\"text-align: right\">【p03.013】</div>"
   ]
  },
  {
   "cell_type": "code",
   "execution_count": null,
   "metadata": {},
   "outputs": [],
   "source": [
    "# rySol 3.7\n",
    "\n",
    "popuSize= 10\n",
    "succSize= 2 \n",
    "sampSize= 3\n",
    "\n",
    "succNum=  X= k= 0\n",
    "\n",
    "# \n",
    "# 'X=0 | N=10, K=2, n=3'.prob=\n",
    "st.hypergeom.pmf(np.array([0]), 10, np.array([5]),3)"
   ]
  },
  {
   "cell_type": "markdown",
   "metadata": {},
   "source": []
  },
  {
   "cell_type": "markdown",
   "metadata": {},
   "source": [
    "![](media/Ch03/image35.png) <div style=\"text-align: right\">【p03.015】</div>\n",
    "\n",
    "![](media/Ch03/image36.png) <div style=\"text-align: right\">【p03.016】</div>"
   ]
  },
  {
   "cell_type": "markdown",
   "metadata": {},
   "source": [
    "![](media/Ch03/image37.png) <div style=\"text-align: right\">【p03.017】</div>"
   ]
  },
  {
   "cell_type": "code",
   "execution_count": null,
   "metadata": {},
   "outputs": [],
   "source": [
    "N= 5000\n",
    "K= 1000\n",
    "n=  10\n",
    "x= np.arange(0,n+1)\n",
    "pmf= st.hypergeom.pmf(x, N,K,n)\n",
    "x, pmf"
   ]
  },
  {
   "cell_type": "code",
   "execution_count": null,
   "metadata": {},
   "outputs": [],
   "source": [
    "pmf2= st.binom.pmf(x, n= n, p= K/N)\n",
    "x, pmf2"
   ]
  },
  {
   "cell_type": "markdown",
   "metadata": {},
   "source": []
  },
  {
   "cell_type": "markdown",
   "metadata": {},
   "source": []
  },
  {
   "cell_type": "markdown",
   "metadata": {},
   "source": [
    "![](media/Ch03/image38.png) <div style=\"text-align: right\">【p03.018】</div>"
   ]
  },
  {
   "cell_type": "markdown",
   "metadata": {},
   "source": [
    "![](media/Ch03/image41.png) <div style=\"text-align: right\">【p03.019】</div>"
   ]
  },
  {
   "cell_type": "markdown",
   "metadata": {},
   "source": []
  },
  {
   "cell_type": "markdown",
   "metadata": {},
   "source": [
    "### 負二項 分布 (Negative Binomial)\n",
    "\n",
    "![](media/Ch03/image43.png) <div style=\"text-align: right\">【p03.020】</div>"
   ]
  },
  {
   "cell_type": "code",
   "execution_count": null,
   "metadata": {},
   "outputs": [],
   "source": [
    "st.nbinom?"
   ]
  },
  {
   "cell_type": "markdown",
   "metadata": {},
   "source": [
    "Notes\n",
    "-----\n",
    "\n",
    "Negative binomial distribution describes a sequence of i.i.d. Bernoulli\n",
    "trials, repeated until a predefined, non-random number of successes occurs.\n",
    "\n",
    "The probability mass function of the number of failures for `nbinom` is:\n",
    "\n",
    ".. math::\n",
    "\n",
    "$\n",
    "   f(k) = \\binom{k+n-1}{n-1} p^n (1-p)^k\n",
    "$\n",
    "\n",
    "$k \\ge 0 $\n",
    "\n",
    "`nbinom` takes :math:`n` and :math:`p` as shape parameters \n",
    "\n",
    "where n is the\n",
    "number of successes, \n",
    "\n",
    "whereas p is the probability of a single success.\n",
    "\n",
    "n 為定數，代表成功之次數。\n",
    "p 為定數，代表單次成功之機率。\n",
    "\n",
    "隨機變數 K 代表 失敗的次數\n"
   ]
  },
  {
   "cell_type": "markdown",
   "metadata": {},
   "source": []
  },
  {
   "cell_type": "markdown",
   "metadata": {},
   "source": []
  },
  {
   "cell_type": "markdown",
   "metadata": {},
   "source": [
    "![](media/Ch03/image44.png) <div style=\"text-align: right\">【p03.021】</div>\n",
    "![](media/Ch03/image45.png) <div style=\"text-align: right\">【p03.022】</div>\n",
    "![](media/Ch03/image48.png) <div style=\"text-align: right\">【p03.023】</div>\n",
    "![](media/Ch03/image49.png) <div style=\"text-align: right\">【p03.024】</div>\n",
    "![](media/Ch03/image50.png) <div style=\"text-align: right\">【p03.025】</div>\n",
    "\n",
    "![](media/Ch03/image51.png) <div style=\"text-align: right\">【p03.026】</div>\n",
    "![](media/Ch03/image53.png) <div style=\"text-align: right\">【p03.027】</div>\n",
    "![](media/Ch03/image54.png) <div style=\"text-align: right\">【p03.028】</div>\n",
    "![](media/Ch03/image55.png) <div style=\"text-align: right\">【p03.029】</div>\n",
    "![](media/Ch03/image56.png) <div style=\"text-align: right\">【p03.030】</div>\n",
    "\n",
    "![](media/Ch03/image57.png) <div style=\"text-align: right\">【p03.031】</div>\n",
    "![](media/Ch03/image58.png) <div style=\"text-align: right\">【p03.032】</div>\n",
    "![](media/Ch03/image60.png) <div style=\"text-align: right\">【p03.033】</div>\n",
    "![](media/Ch03/image61.png) <div style=\"text-align: right\">【p03.034】</div>\n",
    "![](media/Ch03/image62.png) <div style=\"text-align: right\">【p03.035】</div>\n",
    "\n",
    "![](media/Ch03/image63.png) <div style=\"text-align: right\">【p03.036】</div>\n",
    "![](media/Ch03/image64.png) <div style=\"text-align: right\">【p03.037】</div>\n",
    "![](media/Ch03/image65.png) <div style=\"text-align: right\">【p03.038】</div>\n",
    "![](media/Ch03/image66.png) <div style=\"text-align: right\">【p03.039】</div>\n",
    "![](media/Ch03/image67.png) <div style=\"text-align: right\">【p03.040】</div>\n",
    "\n",
    "![](media/Ch03/image68.png) <div style=\"text-align: right\">【p03.041】</div>\n",
    "![](media/Ch03/image69.png) <div style=\"text-align: right\">【p03.042】</div>\n",
    "![](media/Ch03/image70.png) <div style=\"text-align: right\">【p03.043】</div>\n",
    "![](media/Ch03/image71.png) <div style=\"text-align: right\">【p03.044】</div>\n",
    "![](media/Ch03/image72.png) <div style=\"text-align: right\">【p03.045】</div>\n",
    "\n",
    "![](media/Ch03/image77.png) <div style=\"text-align: right\">【p03.046】</div>\n",
    "![](media/Ch03/image79.png) <div style=\"text-align: right\">【p03.047】</div>\n",
    "![](media/Ch03/image80.png) <div style=\"text-align: right\">【p03.048】</div>\n",
    "![](media/Ch03/image81.png) <div style=\"text-align: right\">【p03.049】</div>\n",
    "![](media/Ch03/image82.png) <div style=\"text-align: right\">【p03.050】</div>\n",
    "\n",
    "![](media/Ch03/image83.png) <div style=\"text-align: right\">【p03.051】</div>\n",
    "![](media/Ch03/image84.png) <div style=\"text-align: right\">【p03.052】</div>\n",
    "![](media/Ch03/image85.png) <div style=\"text-align: right\">【p03.053】</div>\n",
    "![](media/Ch03/image86.png) <div style=\"text-align: right\">【p03.054】</div>\n",
    "![](media/Ch03/image87.png) <div style=\"text-align: right\">【p03.055】</div>\n",
    "\n",
    "![](media/Ch03/image88.png) <div style=\"text-align: right\">【p03.056】</div>\n",
    "![](media/Ch03/image89.png) <div style=\"text-align: right\">【p03.057】</div>\n",
    "![](media/Ch03/image90.png) <div style=\"text-align: right\">【p03.058】</div>\n",
    "![](media/Ch03/image91.png) <div style=\"text-align: right\">【p03.059】</div>\n",
    "![](media/Ch03/image92.png) <div style=\"text-align: right\">【p03.060】</div>\n",
    "\n",
    "![](media/Ch03/image93.png) <div style=\"text-align: right\">【p03.061】</div>\n",
    "![](media/Ch03/image94.png) <div style=\"text-align: right\">【p03.062】</div>\n",
    "![](media/Ch03/image95.png) <div style=\"text-align: right\">【p03.063】</div>\n",
    "![](media/Ch03/image96.png) <div style=\"text-align: right\">【p03.064】</div>\n",
    "![](media/Ch03/image97.png) <div style=\"text-align: right\">【p03.065】</div>\n",
    "\n",
    "![](media/Ch03/image98.png) <div style=\"text-align: right\">【p03.066】</div>\n",
    "![](media/Ch03/image99.png) <div style=\"text-align: right\">【p03.067】</div>\n",
    "![](media/Ch03/image100.png) <div style=\"text-align: right\">【p03.068】</div>\n",
    "![](media/Ch03/image101.png) <div style=\"text-align: right\">【p03.069】</div>\n",
    "![](media/Ch03/image102.png) <div style=\"text-align: right\">【p03.070】</div>\n",
    "\n",
    "![](media/Ch03/image103.png) <div style=\"text-align: right\">【p03.071】</div>\n",
    "![](media/Ch03/image104.png) <div style=\"text-align: right\">【p03.072】</div>\n",
    "![](media/Ch03/image105.png) <div style=\"text-align: right\">【p03.073】</div>\n",
    "![](media/Ch03/image106.png) <div style=\"text-align: right\">【p03.074】</div>\n",
    "![](media/Ch03/image107.png) <div style=\"text-align: right\">【p03.075】</div>\n",
    "\n",
    "![](media/Ch03/image108.png) <div style=\"text-align: right\">【p03.076】</div>\n",
    "![](media/Ch03/image109.png) <div style=\"text-align: right\">【p03.077】</div>\n",
    "![](media/Ch03/image112.png) <div style=\"text-align: right\">【p03.078】</div>\n",
    "![](media/Ch03/image113.png) <div style=\"text-align: right\">【p03.079】</div>\n",
    "![](media/Ch03/image114.png) <div style=\"text-align: right\">【p03.080】</div>\n",
    "\n",
    "![](media/Ch03/image115.png) <div style=\"text-align: right\">【p03.081】</div>\n",
    "![](media/Ch03/image116.png) <div style=\"text-align: right\">【p03.082】</div>\n",
    "![](media/Ch03/image117.png) <div style=\"text-align: right\">【p03.083】</div>\n",
    "![](media/Ch03/image118.png) <div style=\"text-align: right\">【p03.084】</div>\n",
    "![](media/Ch03/image119.png) <div style=\"text-align: right\">【p03.085】</div>\n",
    "\n",
    "![](media/Ch03/image120.png) <div style=\"text-align: right\">【p03.086】</div>\n",
    "![](media/Ch03/image121.png) <div style=\"text-align: right\">【p03.087】</div>\n",
    "![](media/Ch03/image122.png) <div style=\"text-align: right\">【p03.088】</div>\n",
    "![](media/Ch03/image123.png) <div style=\"text-align: right\">【p03.089】</div>\n",
    "![](media/Ch03/image128.png) <div style=\"text-align: right\">【p03.090】</div>\n",
    "\n",
    "![](media/Ch03/image129.png) <div style=\"text-align: right\">【p03.091】</div>\n",
    "![](media/Ch03/image130.png) <div style=\"text-align: right\">【p03.092】</div>\n",
    "![](media/Ch03/image131.png) <div style=\"text-align: right\">【p03.093】</div>\n",
    "![](media/Ch03/image132.png) <div style=\"text-align: right\">【p03.094】</div>\n",
    "![](media/Ch03/image133.png) <div style=\"text-align: right\">【p03.095】</div>\n",
    "\n",
    "![](media/Ch03/image140.png) <div style=\"text-align: right\">【p03.096】</div>\n",
    "![](media/Ch03/image142.png) <div style=\"text-align: right\">【p03.097】</div>\n",
    "![](media/Ch03/image143.png) <div style=\"text-align: right\">【p03.098】</div>\n",
    "![](media/Ch03/image144.png) <div style=\"text-align: right\">【p03.099】</div>\n",
    "![](media/Ch03/image145.png) <div style=\"text-align: right\">【p03.100】</div>\n",
    "\n",
    "![](media/Ch03/image146.png) <div style=\"text-align: right\">【p03.101】</div>\n",
    "![](media/Ch03/image147.png) <div style=\"text-align: right\">【p03.102】</div>\n",
    "![](media/Ch03/image148.png) <div style=\"text-align: right\">【p03.103】</div>\n",
    "![](media/Ch03/image149.png) <div style=\"text-align: right\">【p03.104】</div>\n",
    "![](media/Ch03/image150.png) <div style=\"text-align: right\">【p03.105】</div>\n",
    "\n",
    "![](media/Ch03/image153.png) <div style=\"text-align: right\">【p03.106】</div>\n",
    "![](media/Ch03/image154.png) <div style=\"text-align: right\">【p03.107】</div>"
   ]
  },
  {
   "cell_type": "markdown",
   "metadata": {},
   "source": [
    "----\n",
    "\n",
    "# Ch03\n",
    "\n",
    "----\n",
    "\n",
    "![](media_en/ch03/image5.png) <div style=\"text-align: right\">【q03.000】</div>\n",
    "![](media_en/ch03/image6.png) <div style=\"text-align: right\">【q03.001】</div>\n",
    "![](media_en/ch03/image7.png) <div style=\"text-align: right\">【q03.002】</div>\n",
    "![](media_en/ch03/image8.png) <div style=\"text-align: right\">【q03.003】</div>\n",
    "![](media_en/ch03/image9.png) <div style=\"text-align: right\">【q03.004】</div>\n",
    "![](media_en/ch03/image10.png) <div style=\"text-align: right\">【q03.005】</div>\n",
    "\n",
    "![](media_en/ch03/image12.png) <div style=\"text-align: right\">【q03.006】</div>\n",
    "![](media_en/ch03/image13.png) <div style=\"text-align: right\">【q03.007】</div>\n",
    "![](media_en/ch03/image14.png) <div style=\"text-align: right\">【q03.008】</div>\n",
    "![](media_en/ch03/image15.png) <div style=\"text-align: right\">【q03.009】</div>\n",
    "![](media_en/ch03/image16.png) <div style=\"text-align: right\">【q03.010】</div>\n",
    "\n",
    "![](media_en/ch03/image17.png) <div style=\"text-align: right\">【q03.011】</div>\n",
    "![](media_en/ch03/image18.png) <div style=\"text-align: right\">【q03.012】</div>\n",
    "![](media_en/ch03/image19.png) <div style=\"text-align: right\">【q03.013】</div>\n",
    "![](media_en/ch03/image20.png) <div style=\"text-align: right\">【q03.014】</div>\n",
    "![](media_en/ch03/image21.png) <div style=\"text-align: right\">【q03.015】</div>\n",
    "\n",
    "![](media_en/ch03/image22.png) <div style=\"text-align: right\">【q03.016】</div>\n",
    "![](media_en/ch03/image23.png) <div style=\"text-align: right\">【q03.017】</div>\n",
    "![](media_en/ch03/image24.png) <div style=\"text-align: right\">【q03.018】</div>\n",
    "![](media_en/ch03/image25.png) <div style=\"text-align: right\">【q03.019】</div>\n",
    "![](media_en/ch03/image26.png) <div style=\"text-align: right\">【q03.020】</div>\n",
    "\n",
    "![](media_en/ch03/image27.png) <div style=\"text-align: right\">【q03.021】</div>\n",
    "![](media_en/ch03/image28.png) <div style=\"text-align: right\">【q03.022】</div>\n",
    "![](media_en/ch03/image29.png) <div style=\"text-align: right\">【q03.023】</div>\n",
    "![](media_en/ch03/image30.png) <div style=\"text-align: right\">【q03.024】</div>\n",
    "![](media_en/ch03/image31.png) <div style=\"text-align: right\">【q03.025】</div>\n",
    "\n",
    "![](media_en/ch03/image32.png) <div style=\"text-align: right\">【q03.026】</div>\n",
    "![](media_en/ch03/image33.png) <div style=\"text-align: right\">【q03.027】</div>\n",
    "![](media_en/ch03/image34.png) <div style=\"text-align: right\">【q03.028】</div>\n",
    "![](media_en/ch03/image35.png) <div style=\"text-align: right\">【q03.029】</div>\n",
    "![](media_en/ch03/image36.png) <div style=\"text-align: right\">【q03.030】</div>\n",
    "\n",
    "![](media_en/ch03/image37.png) <div style=\"text-align: right\">【q03.031】</div>\n",
    "![](media_en/ch03/image39.png) <div style=\"text-align: right\">【q03.032】</div>\n",
    "![](media_en/ch03/image40.png) <div style=\"text-align: right\">【q03.033】</div>\n",
    "![](media_en/ch03/image41.png) <div style=\"text-align: right\">【q03.034】</div>\n",
    "![](media_en/ch03/image42.png) <div style=\"text-align: right\">【q03.035】</div>\n",
    "\n",
    "![](media_en/ch03/image43.png) <div style=\"text-align: right\">【q03.036】</div>\n",
    "![](media_en/ch03/image44.png) <div style=\"text-align: right\">【q03.037】</div>\n",
    "![](media_en/ch03/image45.png) <div style=\"text-align: right\">【q03.038】</div>\n",
    "![](media_en/ch03/image46.png) <div style=\"text-align: right\">【q03.039】</div>\n",
    "![](media_en/ch03/image47.png) <div style=\"text-align: right\">【q03.040】</div>\n",
    "\n",
    "![](media_en/ch03/image48.png) <div style=\"text-align: right\">【q03.041】</div>\n",
    "![](media_en/ch03/image49.png) <div style=\"text-align: right\">【q03.042】</div>"
   ]
  },
  {
   "cell_type": "markdown",
   "metadata": {},
   "source": []
  },
  {
   "cell_type": "markdown",
   "metadata": {},
   "source": []
  },
  {
   "cell_type": "markdown",
   "metadata": {},
   "source": []
  },
  {
   "cell_type": "markdown",
   "metadata": {},
   "source": []
  },
  {
   "cell_type": "markdown",
   "metadata": {},
   "source": []
  },
  {
   "cell_type": "markdown",
   "metadata": {},
   "source": []
  },
  {
   "cell_type": "markdown",
   "metadata": {},
   "source": []
  },
  {
   "cell_type": "markdown",
   "metadata": {},
   "source": []
  }
 ],
 "metadata": {
  "kernelspec": {
   "display_name": "Python 3",
   "language": "python",
   "name": "python3"
  },
  "language_info": {
   "codemirror_mode": {
    "name": "ipython",
    "version": 3
   },
   "file_extension": ".py",
   "mimetype": "text/x-python",
   "name": "python",
   "nbconvert_exporter": "python",
   "pygments_lexer": "ipython3",
   "version": "3.7.4"
  }
 },
 "nbformat": 4,
 "nbformat_minor": 2
}
