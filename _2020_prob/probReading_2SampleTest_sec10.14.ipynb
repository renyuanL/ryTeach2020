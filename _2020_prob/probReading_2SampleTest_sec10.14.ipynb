{
 "cells": [
  {
   "cell_type": "code",
   "execution_count": null,
   "metadata": {},
   "outputs": [],
   "source": []
  },
  {
   "cell_type": "code",
   "execution_count": null,
   "metadata": {},
   "outputs": [],
   "source": []
  },
  {
   "cell_type": "markdown",
   "metadata": {},
   "source": [
    "10.14 Two-Sample Case Study\n",
    "====\n",
    "\n",
    "(p.380 @ 9thEd)\n",
    "\n",
    "In this section, we consider a study involving a thorough graphical and formal analysis, along with annotated computer printout and conclusions. \n",
    "\n",
    "In a data analysis study conducted by personnel at the Statistics Consulting Center at Virginia Tech, two different materials, alloy A and alloy B, were compared in terms of breaking strength. \n",
    "\n",
    "Alloy B is more expensive, but it should certainly be adopted if it can be shown to be stronger than alloy A. \n",
    "\n",
    "The consistency of performance of the two alloys should also be taken into account. \n",
    "\n",
    "Random samples of beams made from each alloy were selected, and strength was measured in units of 0.001-inch deflection as a fixed force was applied at both ends of the beam. \n",
    "\n",
    "Twenty specimens were used for each of the two alloys. \n",
    "\n",
    "The data are given in Table 10.13. It is important that the engineer compare the two alloys. \n",
    "\n",
    "Of concern is average strength and reproducibility. \n",
    "\n",
    "It is of interest to determine if there is a severe violation of the normality assumption required of both the t- and F-tests. \n",
    "\n",
    "Figures 10.21 and 10.22 are 【normal quantile-quantile plots】 of the samples of the two alloys.\n",
    "\n",
    "There does not appear to be any serious violation of the 【normality assumption】. \n",
    "\n",
    "In addition, Figure 10.23 shows two 【box-and-whisker plots】 on the same graph. \n",
    "\n",
    "The box-and-whisker plots suggest that there is no appreciable difference in the variability of deflection for the two alloys. \n",
    "\n",
    "However, it seems that the mean deflection for alloy B is significantly smaller, suggesting, at least 【graphically, that alloy B is stronger】. \n",
    "\n",
    "The sample means and standard deviations are \n",
    "\n",
    "$\n",
    "\\bar{y}_A = 83.55, s_A = 3.663; \n",
    "$\n",
    "\n",
    "$\n",
    "\\bar{y}_B = 79.70, s_B = 3.097. \n",
    "$\n",
    "\n",
    "The SAS printout for the PROC 【TTEST】 is shown in Figure 10.24. \n",
    "\n",
    "The 【F-test】 suggests no significant difference in variances (P = 0.4709), and the two-sample t-statistic for testing \n",
    "\n",
    "$\n",
    "H_0: μ_A = μ_B\n",
    "$\n",
    "\n",
    "$\n",
    "H_1: μ_A > μ_B \n",
    "$\n",
    "\n",
    "(t = 3.59, P = 0.0009) \n",
    "【rejects H0】 \n",
    "in favor of H1 \n",
    "\n",
    "and thus confirms what the graphical information suggests. \n",
    "\n",
    "\n",
    "Here we use the t-test that pools the two-sample variances together in light of the results of the F-test. \n",
    "\n",
    "On the basis of this analysis, the 【adoption of alloy B】 would seem to be in order.\n"
   ]
  },
  {
   "cell_type": "markdown",
   "metadata": {},
   "source": [
    "Table 10.13: \n",
    "====\n",
    "\n",
    "Data for Two-Sample Case Study\n",
    "----\n",
    "\n",
    "\n",
    "Alloy A  |Alloy B\n",
    ":----    |:----\n",
    "88 82 87 |75 81 80\n",
    "79 85 90 |77 78 81\n",
    "84 88 83 |86 78 77\n",
    "89 80 81 |84 82 78\n",
    "81 85    |80 80 \n",
    "83 87    |78 76 \n",
    "82 80    |83 85 \n",
    "79 78    |76 79 \n"
   ]
  },
  {
   "cell_type": "code",
   "execution_count": null,
   "metadata": {},
   "outputs": [],
   "source": []
  },
  {
   "cell_type": "code",
   "execution_count": 48,
   "metadata": {},
   "outputs": [
    {
     "data": {
      "text/html": [
       "<div>\n",
       "<style scoped>\n",
       "    .dataframe tbody tr th:only-of-type {\n",
       "        vertical-align: middle;\n",
       "    }\n",
       "\n",
       "    .dataframe tbody tr th {\n",
       "        vertical-align: top;\n",
       "    }\n",
       "\n",
       "    .dataframe thead th {\n",
       "        text-align: right;\n",
       "    }\n",
       "</style>\n",
       "<table border=\"1\" class=\"dataframe\">\n",
       "  <thead>\n",
       "    <tr style=\"text-align: right;\">\n",
       "      <th></th>\n",
       "      <th>X0= A</th>\n",
       "      <th>X1= B</th>\n",
       "    </tr>\n",
       "  </thead>\n",
       "  <tbody>\n",
       "    <tr>\n",
       "      <th>count</th>\n",
       "      <td>20.000000</td>\n",
       "      <td>20.000000</td>\n",
       "    </tr>\n",
       "    <tr>\n",
       "      <th>mean</th>\n",
       "      <td>83.550000</td>\n",
       "      <td>79.700000</td>\n",
       "    </tr>\n",
       "    <tr>\n",
       "      <th>std</th>\n",
       "      <td>3.663116</td>\n",
       "      <td>3.096688</td>\n",
       "    </tr>\n",
       "    <tr>\n",
       "      <th>min</th>\n",
       "      <td>78.000000</td>\n",
       "      <td>75.000000</td>\n",
       "    </tr>\n",
       "    <tr>\n",
       "      <th>25%</th>\n",
       "      <td>80.750000</td>\n",
       "      <td>77.750000</td>\n",
       "    </tr>\n",
       "    <tr>\n",
       "      <th>50%</th>\n",
       "      <td>83.000000</td>\n",
       "      <td>79.500000</td>\n",
       "    </tr>\n",
       "    <tr>\n",
       "      <th>75%</th>\n",
       "      <td>87.000000</td>\n",
       "      <td>81.250000</td>\n",
       "    </tr>\n",
       "    <tr>\n",
       "      <th>max</th>\n",
       "      <td>90.000000</td>\n",
       "      <td>86.000000</td>\n",
       "    </tr>\n",
       "  </tbody>\n",
       "</table>\n",
       "</div>"
      ],
      "text/plain": [
       "           X0= A      X1= B\n",
       "count  20.000000  20.000000\n",
       "mean   83.550000  79.700000\n",
       "std     3.663116   3.096688\n",
       "min    78.000000  75.000000\n",
       "25%    80.750000  77.750000\n",
       "50%    83.000000  79.500000\n",
       "75%    87.000000  81.250000\n",
       "max    90.000000  86.000000"
      ]
     },
     "execution_count": 48,
     "metadata": {},
     "output_type": "execute_result"
    },
    {
     "data": {
      "image/png": "[encoded data removed]",
      "text/plain": [
       "<Figure size 432x288 with 1 Axes>"
      ]
     },
     "metadata": {
      "needs_background": "light"
     },
     "output_type": "display_data"
    }
   ],
   "source": [
    "A= [\n",
    "    88, 82, 87, \n",
    "    79, 85, 90, \n",
    "    84, 88, 83, \n",
    "    89, 80, 81, \n",
    "    81, 85,    \n",
    "    83, 87,    \n",
    "    82, 80,    \n",
    "    79, 78\n",
    "    ]\n",
    "B= [\n",
    "    75, 81, 80,\n",
    "    77, 78, 81,\n",
    "    86, 78, 77,\n",
    "    84, 82, 78,\n",
    "    80, 80, \n",
    "    78, 76, \n",
    "    83, 85, \n",
    "    76, 79    \n",
    "    ]\n",
    "\n",
    "import numpy as np\n",
    "import pandas as pd\n",
    "\n",
    "X0= pd.Series(A)\n",
    "X1= pd.Series(B)\n",
    "\n",
    "dfX= pd.DataFrame(data={'X0= A':X0,'X1= B':X1})\n",
    "\n",
    "dfX.plot.box(grid=True, title='Box-whisker')\n",
    "dfX.describe()\n",
    "\n"
   ]
  },
  {
   "cell_type": "code",
   "execution_count": 49,
   "metadata": {},
   "outputs": [
    {
     "data": {
      "image/png": "[encoded data removed]",
      "text/plain": [
       "<Figure size 432x288 with 1 Axes>"
      ]
     },
     "metadata": {
      "needs_background": "light"
     },
     "output_type": "display_data"
    }
   ],
   "source": [
    "# Quantile-quantile plot (QQ plot)\n",
    "\n",
    "import scipy.stats as st\n",
    "import matplotlib.pyplot as pl\n",
    "\n",
    "st.probplot(X0, dist=\"norm\", plot=pl)\n",
    "st.probplot(X1, dist=\"norm\", plot=pl)\n",
    "pl.grid('on')\n"
   ]
  },
  {
   "cell_type": "code",
   "execution_count": 50,
   "metadata": {},
   "outputs": [],
   "source": [
    "st.probplot?"
   ]
  },
  {
   "cell_type": "code",
   "execution_count": 51,
   "metadata": {},
   "outputs": [
    {
     "data": {
      "text/plain": [
       "(0.8190977064011222, 0.692440383145384)"
      ]
     },
     "execution_count": 51,
     "metadata": {},
     "output_type": "execute_result"
    }
   ],
   "source": [
    "# standard error from mean = σ^2/sqrt(n)\n",
    "\n",
    "X0.sem(), X1.sem()"
   ]
  },
  {
   "cell_type": "code",
   "execution_count": 52,
   "metadata": {},
   "outputs": [],
   "source": [
    "st.t.interval?"
   ]
  },
  {
   "cell_type": "code",
   "execution_count": 53,
   "metadata": {},
   "outputs": [
    {
     "data": {
      "text/plain": [
       "((81.83560879759182, 85.26439120240818),\n",
       " (78.25070562183303, 81.14929437816697))"
      ]
     },
     "execution_count": 53,
     "metadata": {},
     "output_type": "execute_result"
    }
   ],
   "source": [
    "# 95% Confidence Inteval\n",
    "\n",
    "'''\n",
    "itv= st.t.interval(0.95, X0.size-1)\n",
    "itv= np.array(itv)\n",
    "X0.mean()+itv*X0.sem()\n",
    "'''\n",
    "\n",
    "itv0= st.t.interval(\n",
    "    0.95, \n",
    "    X0.size-1, \n",
    "    loc=  X0.mean(), \n",
    "    scale=X0.sem())\n",
    "\n",
    "itv1= st.t.interval(\n",
    "    0.95, \n",
    "    X1.size-1, \n",
    "    loc=  X1.mean(), \n",
    "    scale=X1.sem())\n",
    "\n",
    "itv0, itv1              "
   ]
  },
  {
   "cell_type": "code",
   "execution_count": 60,
   "metadata": {},
   "outputs": [
    {
     "data": {
      "text/plain": [
       "([81.83560879759182, 83.55, 85.26439120240818],\n",
       " [78.25070562183303, 79.7, 81.14929437816697])"
      ]
     },
     "execution_count": 60,
     "metadata": {},
     "output_type": "execute_result"
    }
   ],
   "source": [
    "# 95% confidence intervals do NOT overlap \n",
    "[itv0[0], X0.mean(), itv0[1]], [itv1[0], X1.mean(), itv1[1]]"
   ]
  },
  {
   "cell_type": "code",
   "execution_count": null,
   "metadata": {},
   "outputs": [],
   "source": []
  },
  {
   "cell_type": "code",
   "execution_count": null,
   "metadata": {},
   "outputs": [],
   "source": []
  },
  {
   "cell_type": "code",
   "execution_count": 54,
   "metadata": {},
   "outputs": [
    {
     "data": {
      "text/plain": [
       "(Ttest_indResult(statistic=3.589527512948317, pvalue=0.0009342040323076203),\n",
       " Ttest_indResult(statistic=3.589527512948317, pvalue=0.0009565897806714848))"
      ]
     },
     "execution_count": 54,
     "metadata": {},
     "output_type": "execute_result"
    }
   ],
   "source": [
    "# T-test for the difference of the sample means between 2 samples\n",
    "\n",
    "st.ttest_ind(X0,X1, equal_var= True), st.ttest_ind(X0,X1, equal_var= False)"
   ]
  },
  {
   "cell_type": "code",
   "execution_count": 55,
   "metadata": {},
   "outputs": [],
   "source": [
    "# Doing F-test to determine whether σA==σB or not\n",
    "# st.f?"
   ]
  },
  {
   "cell_type": "markdown",
   "metadata": {},
   "source": [
    "$\n",
    "f(x, df_1, df_2)= \n",
    "\\frac{\n",
    "  df_2^{df_2/2} \n",
    "  df_1^{df_1/2} \n",
    "  x^{df_1 / 2-1}\n",
    "  }{\n",
    "  (df_2+df_1 x)^{(df_1+df_2)/2}\n",
    "  B(df_1/2, df_2/2)\n",
    "  }\n",
    "$\n",
    "\n"
   ]
  },
  {
   "cell_type": "code",
   "execution_count": null,
   "metadata": {},
   "outputs": [],
   "source": []
  },
  {
   "cell_type": "code",
   "execution_count": 56,
   "metadata": {},
   "outputs": [
    {
     "data": {
      "text/plain": [
       "(1.399286498353458, 0.4709215162367668)"
      ]
     },
     "execution_count": 56,
     "metadata": {},
     "output_type": "execute_result"
    }
   ],
   "source": [
    "fValue= X0.var()/X1.var()\n",
    "dfn= X0.size-1\n",
    "dfd= X1.size-1\n",
    "\n",
    "# Prob('F>fValue')=\n",
    "pValue_1tail= st.f.sf(fValue, dfn= dfn, dfd= dfd)\n",
    "pValue= pValue_1tail*2\n",
    "\n",
    "fValue, pValue"
   ]
  },
  {
   "cell_type": "code",
   "execution_count": 57,
   "metadata": {},
   "outputs": [],
   "source": [
    "# since pValue of F-test > α(=.05), we do NOT reject σA==σB\n",
    "# thus we adopt the ttest_int(equal_var= True)\n",
    "# pvalue=0.0009342040323076203 < α(=.05)\n",
    "\n",
    "# Conclusion: \n",
    "#    REJECT H0: \"μA==μB\" (also μA < μB)\n",
    "# in another word,\n",
    "#    Accept H1: \"μA > μA\""
   ]
  },
  {
   "attachments": {},
   "cell_type": "markdown",
   "metadata": {},
   "source": [
    "![image.png](fg/fg10.24_p382.png)\n"
   ]
  },
  {
   "cell_type": "code",
   "execution_count": 66,
   "metadata": {},
   "outputs": [
    {
     "data": {
      "text/plain": [
       "<matplotlib.axes._subplots.AxesSubplot at 0x26f8bc0f1c8>"
      ]
     },
     "execution_count": 66,
     "metadata": {},
     "output_type": "execute_result"
    },
    {
     "data": {
      "image/png": "[encoded data removed]",
      "text/plain": [
       "<Figure size 432x288 with 1 Axes>"
      ]
     },
     "metadata": {
      "needs_background": "light"
     },
     "output_type": "display_data"
    },
    {
     "data": {
      "image/png": "[encoded data removed]",
      "text/plain": [
       "<Figure size 432x288 with 1 Axes>"
      ]
     },
     "metadata": {
      "needs_background": "light"
     },
     "output_type": "display_data"
    }
   ],
   "source": [
    "dfX.plot.hist(bins=100, grid=True)\n",
    "dfX.plot.density(grid=True)"
   ]
  },
  {
   "cell_type": "code",
   "execution_count": null,
   "metadata": {},
   "outputs": [],
   "source": []
  },
  {
   "cell_type": "code",
   "execution_count": 77,
   "metadata": {},
   "outputs": [
    {
     "data": {
      "text/plain": [
       "(3.5895275129483175, 0.0009565897806714847, 36.97594263757838)"
      ]
     },
     "execution_count": 77,
     "metadata": {},
     "output_type": "execute_result"
    }
   ],
   "source": [
    "import statsmodels.api as sm\n",
    "\n",
    "sm.stats.ttest_ind(\n",
    "    X0,X1,\n",
    "    alternative=\"two-sided\",\n",
    "    usevar=\"unequal\")\n"
   ]
  },
  {
   "cell_type": "code",
   "execution_count": 81,
   "metadata": {},
   "outputs": [],
   "source": []
  },
  {
   "cell_type": "code",
   "execution_count": null,
   "metadata": {},
   "outputs": [],
   "source": []
  }
 ],
 "metadata": {
  "kernelspec": {
   "display_name": "Python 3",
   "language": "python",
   "name": "python3"
  },
  "language_info": {
   "codemirror_mode": {
    "name": "ipython",
    "version": 3
   },
   "file_extension": ".py",
   "mimetype": "text/x-python",
   "name": "python",
   "nbconvert_exporter": "python",
   "pygments_lexer": "ipython3",
   "version": "3.7.4"
  }
 },
 "nbformat": 4,
 "nbformat_minor": 2
}
