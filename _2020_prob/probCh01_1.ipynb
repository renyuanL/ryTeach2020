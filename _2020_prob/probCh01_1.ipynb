{
 "cells": [
  {
   "cell_type": "markdown",
   "metadata": {},
   "source": [
    "# 1. Introduction to Statistics and Probability\n",
    "\n",
    "   * 1.6 Probability of an Event\n",
    "   * 1.7 Additive Rules\n",
    "       *             Exercises\n",
    "   * 1.8 Conditional Probability, Independence, and the Product Rule\n",
    "       *             Exercises\n",
    "   * 1.9 Bayes' Rule\n",
    "       *             Exercises\n",
    "   *             Review Exercises"
   ]
  },
  {
   "cell_type": "markdown",
   "metadata": {},
   "source": [
    "## 1.6 Probability of an Event"
   ]
  },
  {
   "cell_type": "markdown",
   "metadata": {},
   "source": [
    "![](fg/fnExam01.21.png)\n",
    "![](fg/fnExam01.21_sol.png)\n",
    "\n",
    "![](fg/fnExam01.22.png)\n",
    "![](fg/fnExam01.22_sol.png)\n",
    "\n",
    "![](fg/fnExam01.23.png)\n",
    "![](fg/fnExam01.23_sol.png)"
   ]
  },
  {
   "cell_type": "markdown",
   "metadata": {},
   "source": [
    "## 1.7 Additive Rules"
   ]
  },
  {
   "cell_type": "markdown",
   "metadata": {},
   "source": [
    "![](fg/fnExam01.24.png)\n",
    "![](fg/fnExam01.24_sol.png)\n",
    "\n",
    "![](fg/fnExam01.25.png)\n",
    "![](fg/fnExam01.25_sol.png)\n",
    "\n",
    "![](fg/fnExam01.26.png)\n",
    "![](fg/fnExam01.26_sol.png)\n",
    "\n",
    "![](fg/fnExam01.27.png)\n",
    "![](fg/fnExam01.27_sol.png)\n",
    "\n",
    "![](fg/fnExam01.28.png)\n",
    "![](fg/fnExam01.28_sol1.png)\n",
    "![](fg/fnExam01.28_sol2.png)"
   ]
  },
  {
   "cell_type": "markdown",
   "metadata": {},
   "source": [
    "## 1.8 Conditional Probability, Independence, and the Product Rule"
   ]
  },
  {
   "cell_type": "markdown",
   "metadata": {},
   "source": [
    "![](fg/fnExam01.29.png)\n",
    "![](fg/fnExam01.29_sol.png)\n",
    "\n",
    "### 範例30\n",
    "![](fg/fnExam01.30.png)\n",
    "![](fg/fnExam01.30_sol.png)\n",
    "\n",
    "![](fg/fnExam01.31.png)\n",
    "![](fg/fnExam01.31_sol.png)\n",
    "\n",
    "![](fg/fnExam01.32.png)\n",
    "![](fg/fnExam01.32_sol.png)\n",
    "\n",
    "![](fg/fnExam01.33.png)\n",
    "![](fg/fnExam01.33_sol1.png)\n",
    "![](fg/fnExam01.33_sol2.png)"
   ]
  },
  {
   "cell_type": "markdown",
   "metadata": {},
   "source": [
    "## 1.9 Bayes' Rule"
   ]
  },
  {
   "cell_type": "markdown",
   "metadata": {},
   "source": [
    "![](fg/fnExam01.34.png)\n",
    "![](fg/fnExam01.34_sol1.png)\n",
    "![](fg/fnExam01.34_sol2.png)\n",
    "\n",
    "![](fg/fnExam01.35.png)\n",
    "![](fg/fnExam01.35_sol.png)\n",
    "\n",
    "![](fg/fnExam01.36_1.png)\n",
    "![](fg/fnExam01.36_2.png)\n",
    "![](fg/fnExam01.36_sol.png)"
   ]
  },
  {
   "cell_type": "markdown",
   "metadata": {},
   "source": []
  }
 ],
 "metadata": {
  "kernelspec": {
   "display_name": "Python 3",
   "language": "python",
   "name": "python3"
  },
  "language_info": {
   "codemirror_mode": {
    "name": "ipython",
    "version": 3
   },
   "file_extension": ".py",
   "mimetype": "text/x-python",
   "name": "python",
   "nbconvert_exporter": "python",
   "pygments_lexer": "ipython3",
   "version": "3.7.4"
  }
 },
 "nbformat": 4,
 "nbformat_minor": 2
}
