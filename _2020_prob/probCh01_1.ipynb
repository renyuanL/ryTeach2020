{
 "cells": [
  {
   "cell_type": "markdown",
   "metadata": {},
   "source": [
    "# [@Github](https://github.com/renyuanL/ryTeach2020/blob/master/_2020_prob/probCh01_1.ipynb)\n",
    "\n",
    "# [@Colab](https://colab.research.google.com/github/renyuanL/ryTeach2020/blob/master/_2020_prob/probCh01_1.ipynb)"
   ]
  },
  {
   "cell_type": "markdown",
   "metadata": {},
   "source": []
  },
  {
   "cell_type": "markdown",
   "metadata": {},
   "source": [
    "# 1. Introduction to Statistics and Probability\n",
    "\n",
    "   * 1.6 Probability of an Event\n",
    "   * 1.7 Additive Rules\n",
    "       *             Exercises\n",
    "   * 1.8 Conditional Probability, Independence, and the Product Rule\n",
    "       *             Exercises\n",
    "   * 1.9 Bayes' Rule\n",
    "       *             Exercises\n",
    "   *             Review Exercises"
   ]
  },
  {
   "cell_type": "markdown",
   "metadata": {},
   "source": [
    "## 1.6 Probability of an Event"
   ]
  },
  {
   "cell_type": "markdown",
   "metadata": {},
   "source": [
    "![](fg/fnExam01.21.png)\n",
    "![](fg/fnExam01.21_sol.png)\n",
    "\n",
    "![](fg/fnExam01.22.png)\n",
    "![](fg/fnExam01.22_sol.png)\n",
    "\n",
    "![](fg/fnExam01.23.png)\n",
    "![](fg/fnExam01.23_sol.png)"
   ]
  },
  {
   "cell_type": "markdown",
   "metadata": {},
   "source": [
    "## 1.7 Additive Rules"
   ]
  },
  {
   "cell_type": "markdown",
   "metadata": {},
   "source": [
    "![](fg/fnExam01.24.png)\n",
    "![](fg/fnExam01.24_sol.png)\n",
    "\n",
    "![](fg/fnExam01.25.png)\n",
    "![](fg/fnExam01.25_sol.png)\n",
    "\n",
    "![](fg/fnExam01.26.png)\n",
    "![](fg/fnExam01.26_sol.png)\n",
    "\n",
    "![](fg/fnExam01.27.png)\n",
    "![](fg/fnExam01.27_sol.png)\n",
    "\n",
    "![](fg/fnExam01.28.png)\n",
    "![](fg/fnExam01.28_sol1.png)\n",
    "![](fg/fnExam01.28_sol2.png)"
   ]
  },
  {
   "cell_type": "markdown",
   "metadata": {},
   "source": [
    "## 1.8 Conditional Probability, Independence, and the Product Rule"
   ]
  },
  {
   "cell_type": "markdown",
   "metadata": {},
   "source": [
    "![](fg/fnExam01.29.png)\n",
    "![](fg/fnExam01.29_sol.png)\n",
    "\n",
    "### 範例30\n",
    "![](fg/fnExam01.30.png)\n",
    "![](fg/fnExam01.30_sol.png)\n",
    "\n",
    "![](fg/fnExam01.31.png)\n",
    "![](fg/fnExam01.31_sol.png)\n",
    "\n",
    "![](fg/fnExam01.32.png)\n",
    "![](fg/fnExam01.32_sol.png)\n",
    "\n",
    "![](fg/fnExam01.33.png)\n",
    "![](fg/fnExam01.33_sol1.png)\n",
    "![](fg/fnExam01.33_sol2.png)"
   ]
  },
  {
   "cell_type": "markdown",
   "metadata": {},
   "source": [
    "## 1.9 Bayes' Rule"
   ]
  },
  {
   "cell_type": "markdown",
   "metadata": {},
   "source": [
    "Exam01.34\n",
    "====\n",
    "\n",
    "![](fg/fnExam01.34.png)"
   ]
  },
  {
   "cell_type": "markdown",
   "metadata": {},
   "source": [
    "![](fg/fnExam01.34_sol1.png)\n",
    "![](fg/fnExam01.34_sol2.png)\n",
    "\n",
    "----"
   ]
  },
  {
   "cell_type": "markdown",
   "metadata": {},
   "source": [
    "【rySol】\n",
    "\n",
    "prob=|$B_i$, | $B_i$ ==> A, | $B_i$ and A|\n",
    "---- |---    |----          | ----|\n",
    "i=1, |.30,   | .02,| .30 * .02|\n",
    "i=2, |.45,   | .03,| .45 * .03|\n",
    "i=3, |.25,   | .02,| .25 * .02|\n",
    "i_all,| 1.00| | sum= .0245| "
   ]
  },
  {
   "cell_type": "code",
   "execution_count": 2,
   "metadata": {},
   "outputs": [
    {
     "data": {
      "text/plain": [
       "0.0245"
      ]
     },
     "execution_count": 2,
     "metadata": {},
     "output_type": "execute_result"
    }
   ],
   "source": [
    ".30*.02+.45*.03+.25*.02"
   ]
  },
  {
   "cell_type": "markdown",
   "metadata": {},
   "source": [
    "Exam01.35\n",
    "====\n",
    "\n",
    "![](fg/fnExam01.35.png)"
   ]
  },
  {
   "cell_type": "markdown",
   "metadata": {},
   "source": [
    "![](fg/fnExam01.35_sol.png)\n",
    "\n",
    "---"
   ]
  },
  {
   "cell_type": "markdown",
   "metadata": {},
   "source": [
    "【rySol】\n",
    "\n",
    "Prob(|$B_i$, | $B_i$ ==> A, | $B_i$ and A| A ==> $B_i$\n",
    "---- |---    |----          | ----| ---\n",
    "i=1, |.30,   | .02,| .30 * .02= .0060| .0060/.0245= .245\n",
    "i=2, |.45,   | .03,| .45 * .03= .0135| .0135/.0245= .551\n",
    "i=3, |.25,   | .02,| .25 * .02= .0050| .0050/.0245= .204\n",
    "i_all,| 1.00| | sum= .0245| 1.00"
   ]
  },
  {
   "cell_type": "code",
   "execution_count": 3,
   "metadata": {},
   "outputs": [
    {
     "data": {
      "text/plain": [
       "(0.24489795918367346, 0.5510204081632653, 0.20408163265306123)"
      ]
     },
     "execution_count": 3,
     "metadata": {},
     "output_type": "execute_result"
    }
   ],
   "source": [
    ".0060/.0245, .0135/.0245, .0050/.0245"
   ]
  },
  {
   "cell_type": "markdown",
   "metadata": {},
   "source": [
    "Exam01.36\n",
    "====\n",
    "\n",
    "![](fg/fnExam01.36_1.png)\n",
    "![](fg/fnExam01.36_2.png)"
   ]
  },
  {
   "cell_type": "markdown",
   "metadata": {},
   "source": [
    "![](fg/fnExam01.36_sol.png)\n",
    "\n",
    "----"
   ]
  },
  {
   "cell_type": "markdown",
   "metadata": {},
   "source": [
    "【rySol】\n",
    "\n",
    " Prob(|$P_i$,| $P_i$ ==> D,| $P_i$ and D,| D ==> $P_i$,|\n",
    " ---  |--- | ---       | ---       | ---             |\n",
    " i=1,  | .3 | .01       | .003      | .003/.019= .158 |\n",
    " i=2,  | .2 | .03       | .006      | .006/.019= .316 |\n",
    " i=3,  | .5 | .02       | .010      | .010/.019= .526 |\n",
    " for all i,| 1.0|           | .019      | 1.0             |\n",
    "\n"
   ]
  },
  {
   "cell_type": "code",
   "execution_count": 1,
   "metadata": {},
   "outputs": [
    {
     "data": {
      "text/plain": [
       "(0.15789473684210528, 0.31578947368421056, 0.5263157894736842)"
      ]
     },
     "execution_count": 1,
     "metadata": {},
     "output_type": "execute_result"
    }
   ],
   "source": [
    ".003/.019, .006/.019, .010/.019"
   ]
  },
  {
   "cell_type": "markdown",
   "metadata": {},
   "source": []
  }
 ],
 "metadata": {
  "kernelspec": {
   "display_name": "Python 3",
   "language": "python",
   "name": "python3"
  },
  "language_info": {
   "codemirror_mode": {
    "name": "ipython",
    "version": 3
   },
   "file_extension": ".py",
   "mimetype": "text/x-python",
   "name": "python",
   "nbconvert_exporter": "python",
   "pygments_lexer": "ipython3",
   "version": "3.7.4"
  }
 },
 "nbformat": 4,
 "nbformat_minor": 2
}
