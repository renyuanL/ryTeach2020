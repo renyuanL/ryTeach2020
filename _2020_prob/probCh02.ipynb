{
 "cells": [
  {
   "cell_type": "markdown",
   "metadata": {},
   "source": [
    "# [@Github](https://github.com/renyuanL/ryTeach2020/blob/master/_2020_prob/probCh02.ipynb)\n",
    "\n",
    "# [@Colab](https://colab.research.google.com/github/renyuanL/ryTeach2020/blob/master/_2020_prob/probCh02.ipynb)"
   ]
  },
  {
   "cell_type": "markdown",
   "metadata": {},
   "source": []
  },
  {
   "cell_type": "markdown",
   "metadata": {},
   "source": [
    "## 2. Random Variables, Distributions, and Expectations\n",
    "\n",
    "   - 2.1 Concept of a Random Variable\n",
    "   - 2.2 Discrete Probability Distributions\n",
    "   - 2.3 Continuous Probability Distributions\n",
    "       -             Exercises\n",
    "   - 2.4 Joint Probability Distributions\n",
    "       -             Exercises\n",
    "   - 2.5 Mean of a Random Variable\n",
    "       -             Exercises\n",
    "   - 2.6 Variance and Covariance of Random Variables.\n",
    "       -             Exercises\n",
    "   - 2.7 Means and Variances of Linear Combinations of Random Variables\n",
    "       -             Exercises\n",
    "   -     Review Exercises\n",
    "   - 2.8 Potential Misconceptions and Hazards; Relationship to Material in Other Chapters"
   ]
  },
  {
   "cell_type": "code",
   "execution_count": null,
   "metadata": {},
   "outputs": [],
   "source": []
  },
  {
   "cell_type": "markdown",
   "metadata": {},
   "source": [
    "----\n",
    "\n",
    "# Ch02\n",
    "\n",
    "----"
   ]
  },
  {
   "cell_type": "markdown",
   "metadata": {},
   "source": [
    "![](media/Ch02/image6.png) <div style=\"text-align: right\">【p02.000】</div>"
   ]
  },
  {
   "cell_type": "markdown",
   "metadata": {},
   "source": [
    "## Def 2.1\n",
    "\n",
    "![image.png](fg/ch02/def2.01.png)\n",
    "\n",
    "![](media/Ch02/image7.png) <div style=\"text-align: right\">【p02.001】</div>"
   ]
  },
  {
   "cell_type": "markdown",
   "metadata": {},
   "source": [
    "\n"
   ]
  },
  {
   "cell_type": "markdown",
   "metadata": {},
   "source": [
    "![](media/Ch02/image8.png) <div style=\"text-align: right\">【p02.002】</div>\n",
    "![](media/Ch02/image9.png) <div style=\"text-align: right\">【p02.003】</div>\n",
    "![](media/Ch02/image10.png) <div style=\"text-align: right\">【p02.004】</div>"
   ]
  },
  {
   "cell_type": "markdown",
   "metadata": {},
   "source": [
    "## Def2.2\n",
    "![image.png](fg/ch02/def2.02.png)\n",
    "\n",
    "![](media/Ch02/image11.png) <div style=\"text-align: right\">【p02.005】</div>"
   ]
  },
  {
   "cell_type": "markdown",
   "metadata": {},
   "source": [
    "\n"
   ]
  },
  {
   "cell_type": "markdown",
   "metadata": {},
   "source": [
    "![](media/Ch02/image12.png) <div style=\"text-align: right\">【p02.006】</div>\n",
    "![](media/Ch02/image13.png) <div style=\"text-align: right\">【p02.007】</div>\n",
    "![](media/Ch02/image14.png) <div style=\"text-align: right\">【p02.008】</div>\n",
    "![](media/Ch02/image15.png) <div style=\"text-align: right\">【p02.009】</div>"
   ]
  },
  {
   "cell_type": "markdown",
   "metadata": {},
   "source": [
    "![](media/Ch02/image16.png) <div style=\"text-align: right\">【p02.010】</div>"
   ]
  },
  {
   "cell_type": "markdown",
   "metadata": {},
   "source": [
    "## Def2.3\n",
    "![image.png](fg/ch02/def2.03.png)\n",
    "\n",
    "![](media/Ch02/image17.png) <div style=\"text-align: right\">【p02.011】</div>"
   ]
  },
  {
   "cell_type": "markdown",
   "metadata": {},
   "source": [
    "\n",
    "## Def2.4\n",
    "![image.png](fg/ch02/def2.04.png)\n",
    "![](media/Ch02/image18.png) <div style=\"text-align: right\">【p02.012】</div>"
   ]
  },
  {
   "cell_type": "markdown",
   "metadata": {},
   "source": []
  },
  {
   "cell_type": "markdown",
   "metadata": {},
   "source": [
    "![](media/Ch02/image19.png) <div style=\"text-align: right\">【p02.013】</div>\n",
    "![](media/Ch02/image20.png) <div style=\"text-align: right\">【p02.014】</div>\n",
    "![](media/Ch02/image21.png) <div style=\"text-align: right\">【p02.015】</div>"
   ]
  },
  {
   "cell_type": "markdown",
   "metadata": {},
   "source": [
    "## Def2.5\n",
    "![image.png](fg/ch02/def2.05.png)\n",
    "![](media/Ch02/image22.png) <div style=\"text-align: right\">【p02.016】</div>\n"
   ]
  },
  {
   "cell_type": "markdown",
   "metadata": {},
   "source": []
  },
  {
   "cell_type": "markdown",
   "metadata": {},
   "source": [
    "![](media/Ch02/image23.png) <div style=\"text-align: right\">【p02.017】</div>\n",
    "![](media/Ch02/image24.png) <div style=\"text-align: right\">【p02.018】</div>\n",
    "![](media/Ch02/image25.png) <div style=\"text-align: right\">【p02.019】</div>"
   ]
  },
  {
   "cell_type": "markdown",
   "metadata": {},
   "source": [
    "![](media/Ch02/image26.png) <div style=\"text-align: right\">【p02.020】</div>\n",
    "![](media/Ch02/image27.png) <div style=\"text-align: right\">【p02.021】</div>\n",
    "![](media/Ch02/image28.png) <div style=\"text-align: right\">【p02.022】</div>\n",
    "![](media/Ch02/image30.png) <div style=\"text-align: right\">【p02.023】</div>\n",
    "![](media/Ch02/image32.png) <div style=\"text-align: right\">【p02.024】</div>"
   ]
  },
  {
   "cell_type": "markdown",
   "metadata": {},
   "source": [
    "## Def2.6\n",
    "![image.png](fg/ch02/def2.06.png)\n",
    "![](media/Ch02/image33.png) <div style=\"text-align: right\">【p02.025】</div>"
   ]
  },
  {
   "cell_type": "markdown",
   "metadata": {},
   "source": [
    "![](media/Ch02/image34.png) <div style=\"text-align: right\">【p02.026】</div>\n",
    "![](media/Ch02/image35.png) <div style=\"text-align: right\">【p02.027】</div>"
   ]
  },
  {
   "cell_type": "markdown",
   "metadata": {},
   "source": [
    "## Def2.7\n",
    "![image.png](fg/ch02/def2.07.png)\n",
    "![](media/Ch02/image38.png) <div style=\"text-align: right\">【p02.028】</div>"
   ]
  },
  {
   "cell_type": "markdown",
   "metadata": {},
   "source": [
    "![](media/Ch02/image39.png) <div style=\"text-align: right\">【p02.029】</div>"
   ]
  },
  {
   "cell_type": "markdown",
   "metadata": {},
   "source": [
    "![](media/Ch02/image40.png) <div style=\"text-align: right\">【p02.030】</div>\n",
    "![](media/Ch02/image41.png) <div style=\"text-align: right\">【p02.031】</div>\n",
    "![](media/Ch02/image42.png) <div style=\"text-align: right\">【p02.032】</div>"
   ]
  },
  {
   "cell_type": "markdown",
   "metadata": {},
   "source": [
    "## Def2.8\n",
    "![image.png](fg/ch02/def2.08.png)\n",
    "![](media/Ch02/image46.png) <div style=\"text-align: right\">【p02.033】</div>"
   ]
  },
  {
   "cell_type": "markdown",
   "metadata": {},
   "source": [
    "![](media/Ch02/image47.png) <div style=\"text-align: right\">【p02.034】</div>\n",
    "![](media/Ch02/image48.png) <div style=\"text-align: right\">【p02.035】</div>\n",
    "![](media/Ch02/image49.png) <div style=\"text-align: right\">【p02.036】</div>"
   ]
  },
  {
   "cell_type": "markdown",
   "metadata": {},
   "source": [
    "## Def2.9\n",
    "![image.png](fg/ch02/def2.09.png)\n",
    "![](media/Ch02/image51.png) <div style=\"text-align: right\">【p02.037】</div>"
   ]
  },
  {
   "cell_type": "markdown",
   "metadata": {},
   "source": [
    "![](media/Ch02/image52.png) <div style=\"text-align: right\">【p02.038】</div>\n",
    "![](media/Ch02/image53.png) <div style=\"text-align: right\">【p02.039】</div>"
   ]
  },
  {
   "cell_type": "markdown",
   "metadata": {},
   "source": [
    "![](media/Ch02/image54.png) <div style=\"text-align: right\">【p02.040】</div>\n",
    "![](media/Ch02/image55.png) <div style=\"text-align: right\">【p02.041】</div>"
   ]
  },
  {
   "cell_type": "markdown",
   "metadata": {},
   "source": [
    "## Def2.10\n",
    "![image.png](fg/ch02/def2.10.png)\n",
    "\n",
    "![](media/Ch02/image59.png) <div style=\"text-align: right\">【p02.042】</div>\n",
    "![](media/Ch02/image60.png) <div style=\"text-align: right\">【p02.043】</div>"
   ]
  },
  {
   "cell_type": "markdown",
   "metadata": {},
   "source": [
    "![](media/Ch02/image61.png) <div style=\"text-align: right\">【p02.044】</div>\n",
    "![](media/Ch02/image62.png) <div style=\"text-align: right\">【p02.045】</div>\n",
    "![](media/Ch02/image63.png) <div style=\"text-align: right\">【p02.046】</div>"
   ]
  },
  {
   "cell_type": "markdown",
   "metadata": {},
   "source": [
    "## Def2.11\n",
    "![image.png](fg/ch02/def2.11.png)\n",
    "![](media/Ch02/image64.png) <div style=\"text-align: right\">【p02.047】</div>\n",
    "![](media/Ch02/image65.png) <div style=\"text-align: right\">【p02.048】</div>"
   ]
  },
  {
   "cell_type": "markdown",
   "metadata": {},
   "source": [
    "![](media/Ch02/image69.png) <div style=\"text-align: right\">【p02.049】</div>"
   ]
  },
  {
   "cell_type": "markdown",
   "metadata": {},
   "source": [
    "![](media/Ch02/image70.png) <div style=\"text-align: right\">【p02.050】</div>\n",
    "![](media/Ch02/image71.png) <div style=\"text-align: right\">【p02.051】</div>\n",
    "![](media/Ch02/image72.png) <div style=\"text-align: right\">【p02.052】</div>\n",
    "![](media/Ch02/image73.png) <div style=\"text-align: right\">【p02.053】</div>\n",
    "![](media/Ch02/image74.png) <div style=\"text-align: right\">【p02.054】</div>\n",
    "![](media/Ch02/image75.png) <div style=\"text-align: right\">【p02.055】</div>"
   ]
  },
  {
   "cell_type": "markdown",
   "metadata": {},
   "source": [
    "## Def 2.12\n",
    "![image.png](fg/ch02/def2.12.png)\n",
    "![](media/Ch02/image76.png) <div style=\"text-align: right\">【p02.056】</div>"
   ]
  },
  {
   "cell_type": "markdown",
   "metadata": {},
   "source": [
    "![](media/Ch02/image77.png) <div style=\"text-align: right\">【p02.057】</div>"
   ]
  },
  {
   "cell_type": "markdown",
   "metadata": {},
   "source": [
    "## Def 2.13\n",
    "![image.png](fg/ch02/def2.13.png)\n",
    "![](media/Ch02/image78.png) <div style=\"text-align: right\">【p02.058】</div>"
   ]
  },
  {
   "cell_type": "markdown",
   "metadata": {},
   "source": [
    "![](media/Ch02/image79.png) <div style=\"text-align: right\">【p02.059】</div>"
   ]
  },
  {
   "cell_type": "markdown",
   "metadata": {},
   "source": [
    "![](media/Ch02/image80.png) <div style=\"text-align: right\">【p02.060】</div>"
   ]
  },
  {
   "cell_type": "markdown",
   "metadata": {},
   "source": [
    "## Def2.14\n",
    "![image.png](fg/ch02/def2.14.png)\n",
    "![](media/Ch02/image82.png) <div style=\"text-align: right\">【p02.061】</div>"
   ]
  },
  {
   "cell_type": "markdown",
   "metadata": {},
   "source": [
    "![](media/Ch02/image83.png) <div style=\"text-align: right\">【p02.062】</div>\n",
    "![](media/Ch02/image84.png) <div style=\"text-align: right\">【p02.063】</div>\n",
    "![](media/Ch02/image85.png) <div style=\"text-align: right\">【p02.064】</div>"
   ]
  },
  {
   "cell_type": "markdown",
   "metadata": {},
   "source": [
    "## Th 2.1\n",
    "![image.png](fg/ch02/th2.1.png)\n",
    "![](media/Ch02/image86.png) <div style=\"text-align: right\">【p02.065】</div>"
   ]
  },
  {
   "cell_type": "markdown",
   "metadata": {},
   "source": [
    "![](media/Ch02/image87.png) <div style=\"text-align: right\">【p02.066】</div>\n",
    "![](media/Ch02/image88.png) <div style=\"text-align: right\">【p02.067】</div>\n",
    "![](media/Ch02/image89.png) <div style=\"text-align: right\">【p02.068】</div>"
   ]
  },
  {
   "cell_type": "markdown",
   "metadata": {},
   "source": [
    "## Def2.15\n",
    "![image.png](fg/ch02/def2.15.png)\n",
    "![](media/Ch02/image90.png) <div style=\"text-align: right\">【p02.069】</div>"
   ]
  },
  {
   "cell_type": "markdown",
   "metadata": {},
   "source": [
    "![](media/Ch02/image91.png) <div style=\"text-align: right\">【p02.070】</div>\n",
    "![](media/Ch02/image92.png) <div style=\"text-align: right\">【p02.071】</div>\n",
    "![](media/Ch02/image93.png) <div style=\"text-align: right\">【p02.072】</div>\n",
    "![](media/Ch02/image103.png) <div style=\"text-align: right\">【p02.073】</div>"
   ]
  },
  {
   "cell_type": "markdown",
   "metadata": {},
   "source": [
    "## Def2.16\n",
    "![image.png](fg/ch02/def2.16.png)\n",
    "![](media/Ch02/image105.png) <div style=\"text-align: right\">【p02.074】</div>"
   ]
  },
  {
   "attachments": {
    "image.png": {
     "image/png": "[encoded data removed]"
    }
   },
   "cell_type": "markdown",
   "metadata": {},
   "source": [
    "![image.png](attachment:image.png)"
   ]
  },
  {
   "cell_type": "markdown",
   "metadata": {},
   "source": [
    "![](media/Ch02/image106.png) <div style=\"text-align: right\">【p02.075】</div>\n",
    "![](media/Ch02/image107.png) <div style=\"text-align: right\">【p02.076】</div>\n",
    "![](media/Ch02/image108.png) <div style=\"text-align: right\">【p02.077】</div>"
   ]
  },
  {
   "cell_type": "markdown",
   "metadata": {},
   "source": [
    "## Th2.2\n",
    "![image.png](fg/ch02/th2.2.png)\n",
    "![](media/Ch02/image109.png) <div style=\"text-align: right\">【p02.078】</div>"
   ]
  },
  {
   "cell_type": "markdown",
   "metadata": {},
   "source": [
    "![](media/Ch02/image110.png) <div style=\"text-align: right\">【p02.079】</div>"
   ]
  },
  {
   "cell_type": "markdown",
   "metadata": {},
   "source": [
    "![](media/Ch02/image111.png) <div style=\"text-align: right\">【p02.080】</div>\n",
    "![](media/Ch02/image112.png) <div style=\"text-align: right\">【p02.081】</div>"
   ]
  },
  {
   "cell_type": "markdown",
   "metadata": {},
   "source": [
    "## Th2.3\n",
    "![image.png](fg/ch02/th2.3.png)\n",
    "![](media/Ch02/image115.png) <div style=\"text-align: right\">【p02.082】</div>"
   ]
  },
  {
   "cell_type": "markdown",
   "metadata": {},
   "source": [
    "![](media/Ch02/image121.png) <div style=\"text-align: right\">【p02.083】</div>\n",
    "![](media/Ch02/image122.png) <div style=\"text-align: right\">【p02.084】</div>\n",
    "![](media/Ch02/image126.png) <div style=\"text-align: right\">【p02.085】</div>"
   ]
  },
  {
   "cell_type": "markdown",
   "metadata": {},
   "source": [
    "## Def2.17\n",
    "![image.png](fg/ch02/def2.17.png)\n",
    "![](media/Ch02/image127.png) <div style=\"text-align: right\">【p02.086】</div>"
   ]
  },
  {
   "cell_type": "markdown",
   "metadata": {},
   "source": [
    "## Th2.4\n",
    "![image.png](fg/ch02/th2.4.png)\n",
    "![](media/Ch02/image128.png) <div style=\"text-align: right\">【p02.087】</div>"
   ]
  },
  {
   "cell_type": "markdown",
   "metadata": {},
   "source": [
    "![](media/Ch02/image129.png) <div style=\"text-align: right\">【p02.088】</div>\n",
    "![](media/Ch02/image130.png) <div style=\"text-align: right\">【p02.089】</div>"
   ]
  },
  {
   "cell_type": "markdown",
   "metadata": {},
   "source": [
    "![](media/Ch02/image131.png) <div style=\"text-align: right\">【p02.090】</div>\n",
    "![](media/Ch02/image132.png) <div style=\"text-align: right\">【p02.091】</div>\n",
    "![](media/Ch02/image133.png) <div style=\"text-align: right\">【p02.092】</div>"
   ]
  },
  {
   "cell_type": "markdown",
   "metadata": {},
   "source": [
    "## Def 2.18\n",
    "![image.png](fg/ch02/def2.18.png)\n",
    "![](media/Ch02/image134.png) <div style=\"text-align: right\">【p02.093】</div>"
   ]
  },
  {
   "cell_type": "markdown",
   "metadata": {},
   "source": [
    "![](media/Ch02/image135.png) <div style=\"text-align: right\">【p02.094】</div>\n",
    "![](media/Ch02/image136.png) <div style=\"text-align: right\">【p02.095】</div>"
   ]
  },
  {
   "cell_type": "markdown",
   "metadata": {},
   "source": [
    "## Th 2.5\n",
    "![image.png](fg/ch02/th2.5.png)\n",
    "![](media/Ch02/image140.png) <div style=\"text-align: right\">【p02.096】</div>\n",
    "![](media/Ch02/image141.png) <div style=\"text-align: right\">【p02.097】</div>"
   ]
  },
  {
   "cell_type": "markdown",
   "metadata": {},
   "source": [
    "![](media/Ch02/image142.png) <div style=\"text-align: right\">【p02.098】</div>"
   ]
  },
  {
   "cell_type": "markdown",
   "metadata": {},
   "source": [
    "## Th 2.6\n",
    "![image.png](fg/ch02/th2.6.png)\n",
    "![](media/Ch02/image143.png) <div style=\"text-align: right\">【p02.099】</div>"
   ]
  },
  {
   "cell_type": "markdown",
   "metadata": {},
   "source": [
    "![](media/Ch02/image144.png) <div style=\"text-align: right\">【p02.100】</div>\n",
    "![](media/Ch02/image145.png) <div style=\"text-align: right\">【p02.101】</div>\n",
    "![](media/Ch02/image146.png) <div style=\"text-align: right\">【p02.102】</div>\n",
    "![](media/Ch02/image147.png) <div style=\"text-align: right\">【p02.103】</div>"
   ]
  },
  {
   "cell_type": "markdown",
   "metadata": {},
   "source": [
    "## Th 2.7\n",
    "![image.png](fg/ch02/th2.7.png)\n",
    "![](media/Ch02/image148.png) <div style=\"text-align: right\">【p02.104】</div>\n",
    "![](media/Ch02/image149.png) <div style=\"text-align: right\">【p02.105】</div>\n",
    "![](media/Ch02/image150.png) <div style=\"text-align: right\">【p02.106】</div>"
   ]
  },
  {
   "cell_type": "markdown",
   "metadata": {},
   "source": [
    "## Th2.8\n",
    "![image.png](fg/ch02/th2.8.png)\n",
    "\n",
    "![](media/Ch02/image154.png) <div style=\"text-align: right\">【p02.107】</div>\n",
    "![](media/Ch02/image155.png) <div style=\"text-align: right\">【p02.108】</div>\n",
    "![](media/Ch02/image158.png) <div style=\"text-align: right\">【p02.111】</div>"
   ]
  },
  {
   "cell_type": "markdown",
   "metadata": {},
   "source": [
    "![](media/Ch02/image157.png) <div style=\"text-align: right\">【p02.110】</div>\n",
    "\n",
    "![](media/Ch02/image156.png) <div style=\"text-align: right\">【p02.109】</div>"
   ]
  },
  {
   "cell_type": "markdown",
   "metadata": {},
   "source": [
    "## Th 2.9\n",
    "![image.png](fg/ch02/th2.9.png)\n",
    "\n",
    "![](media/Ch02/image161.png) <div style=\"text-align: right\">【p02.112】</div>\n",
    "![](media/Ch02/image163.png) <div style=\"text-align: right\">【p02.113】</div>\n",
    "![](media/Ch02/image164.png) <div style=\"text-align: right\">【p02.114】</div>\n",
    "![](media/Ch02/image165.png) <div style=\"text-align: right\">【p02.115】</div>\n",
    "![](media/Ch02/image166.png) <div style=\"text-align: right\">【p02.116】</div>\n",
    "![](media/Ch02/image167.png) <div style=\"text-align: right\">【p02.117】</div>\n",
    "![](media/Ch02/image168.png) <div style=\"text-align: right\">【p02.118】</div>"
   ]
  },
  {
   "cell_type": "markdown",
   "metadata": {},
   "source": [
    "![](media/Ch02/image169.png) <div style=\"text-align: right\">【p02.119】</div>\n",
    "![](media/Ch02/image170.png) <div style=\"text-align: right\">【p02.120】</div>"
   ]
  },
  {
   "cell_type": "code",
   "execution_count": null,
   "metadata": {},
   "outputs": [],
   "source": []
  },
  {
   "cell_type": "markdown",
   "metadata": {},
   "source": [
    "![](mediaCh02/image6.png)\n",
    "![](mediaCh02/image7.png)\n",
    "![](mediaCh02/image8.png)\n",
    "![](mediaCh02/image9.png)\n",
    "![](mediaCh02/image10.png)\n",
    "![](mediaCh02/image11.png)\n",
    "![](mediaCh02/image12.png)\n",
    "![](mediaCh02/image13.png)\n",
    "![](mediaCh02/image14.png)\n",
    "![](mediaCh02/image15.png)\n",
    "![](mediaCh02/image16.png)\n",
    "![](mediaCh02/image17.png)\n",
    "![](mediaCh02/image18.png)\n",
    "![](mediaCh02/image19.png)\n",
    "![](mediaCh02/image20.png)\n",
    "![](mediaCh02/image21.png)\n",
    "![](mediaCh02/image22.png)\n",
    "![](mediaCh02/image23.png)\n",
    "![](mediaCh02/image24.png)\n",
    "![](mediaCh02/image25.png)\n",
    "![](mediaCh02/image26.png)\n",
    "![](mediaCh02/image27.png)\n",
    "![](mediaCh02/image28.png)\n",
    "![](mediaCh02/image30.png)\n",
    "![](mediaCh02/image32.png)\n",
    "![](mediaCh02/image33.png)\n",
    "![](mediaCh02/image34.png)\n",
    "![](mediaCh02/image35.png)\n",
    "![](mediaCh02/image38.png)\n",
    "![](mediaCh02/image39.png)\n",
    "![](mediaCh02/image40.png)\n",
    "![](mediaCh02/image41.png)\n",
    "![](mediaCh02/image42.png)\n",
    "![](mediaCh02/image46.png)\n",
    "![](mediaCh02/image47.png)\n",
    "![](mediaCh02/image48.png)\n",
    "![](mediaCh02/image49.png)\n",
    "![](mediaCh02/image51.png)\n",
    "![](mediaCh02/image52.png)\n",
    "![](mediaCh02/image53.png)\n",
    "![](mediaCh02/image54.png)\n",
    "![](mediaCh02/image55.png)\n",
    "![](mediaCh02/image59.png)\n",
    "![](mediaCh02/image60.png)\n",
    "![](mediaCh02/image61.png)\n",
    "![](mediaCh02/image62.png)\n",
    "![](mediaCh02/image63.png)\n",
    "![](mediaCh02/image64.png)\n",
    "![](mediaCh02/image65.png)\n",
    "![](mediaCh02/image69.png)\n",
    "![](mediaCh02/image70.png)\n",
    "![](mediaCh02/image71.png)\n",
    "![](mediaCh02/image72.png)\n",
    "![](mediaCh02/image73.png)\n",
    "![](mediaCh02/image74.png)\n",
    "![](mediaCh02/image75.png)\n",
    "![](mediaCh02/image76.png)\n",
    "![](mediaCh02/image77.png)\n",
    "![](mediaCh02/image78.png)\n",
    "![](mediaCh02/image79.png)\n",
    "![](mediaCh02/image80.png)\n",
    "![](mediaCh02/image82.png)\n",
    "![](mediaCh02/image83.png)\n",
    "![](mediaCh02/image84.png)\n",
    "![](mediaCh02/image85.png)\n",
    "![](mediaCh02/image86.png)\n",
    "![](mediaCh02/image87.png)\n",
    "![](mediaCh02/image88.png)\n",
    "![](mediaCh02/image89.png)\n",
    "![](mediaCh02/image90.png)\n",
    "![](mediaCh02/image91.png)\n",
    "![](mediaCh02/image92.png)\n",
    "![](mediaCh02/image93.png)\n",
    "![](mediaCh02/image103.png)\n",
    "![](mediaCh02/image105.png)\n",
    "![](mediaCh02/image106.png)\n",
    "![](mediaCh02/image107.png)\n",
    "![](mediaCh02/image108.png)\n",
    "![](mediaCh02/image109.png)\n",
    "![](mediaCh02/image110.png)\n",
    "![](mediaCh02/image111.png)\n",
    "![](mediaCh02/image112.png)\n",
    "![](mediaCh02/image115.png)\n",
    "![](mediaCh02/image121.png)\n",
    "![](mediaCh02/image122.png)\n",
    "![](mediaCh02/image126.png)\n",
    "![](mediaCh02/image127.png)\n",
    "![](mediaCh02/image128.png)\n",
    "![](mediaCh02/image129.png)\n",
    "![](mediaCh02/image130.png)\n",
    "![](mediaCh02/image131.png)\n",
    "![](mediaCh02/image132.png)\n",
    "![](mediaCh02/image133.png)\n",
    "![](mediaCh02/image134.png)\n",
    "![](mediaCh02/image135.png)\n",
    "![](mediaCh02/image136.png)\n",
    "![](mediaCh02/image140.png)\n",
    "![](mediaCh02/image141.png)\n",
    "![](mediaCh02/image142.png)\n",
    "![](mediaCh02/image143.png)\n",
    "![](mediaCh02/image144.png)\n",
    "![](mediaCh02/image145.png)\n",
    "![](mediaCh02/image146.png)\n",
    "![](mediaCh02/image147.png)\n",
    "![](mediaCh02/image148.png)\n",
    "![](mediaCh02/image149.png)\n",
    "![](mediaCh02/image150.png)\n",
    "![](mediaCh02/image154.png)\n",
    "![](mediaCh02/image155.png)\n",
    "![](mediaCh02/image156.png)\n",
    "![](mediaCh02/image157.png)\n",
    "![](mediaCh02/image158.png)\n",
    "![](mediaCh02/image161.png)\n",
    "![](mediaCh02/image163.png)\n",
    "![](mediaCh02/image164.png)\n",
    "![](mediaCh02/image165.png)\n",
    "![](mediaCh02/image166.png)\n",
    "![](mediaCh02/image167.png)\n",
    "![](mediaCh02/image168.png)\n",
    "![](mediaCh02/image169.png)\n",
    "![](mediaCh02/image170.png)\n"
   ]
  },
  {
   "cell_type": "markdown",
   "metadata": {},
   "source": []
  },
  {
   "cell_type": "markdown",
   "metadata": {},
   "source": []
  },
  {
   "cell_type": "markdown",
   "metadata": {},
   "source": []
  },
  {
   "cell_type": "markdown",
   "metadata": {},
   "source": []
  },
  {
   "cell_type": "markdown",
   "metadata": {},
   "source": []
  },
  {
   "cell_type": "markdown",
   "metadata": {},
   "source": []
  }
 ],
 "metadata": {
  "kernelspec": {
   "display_name": "Python 3",
   "language": "python",
   "name": "python3"
  },
  "language_info": {
   "codemirror_mode": {
    "name": "ipython",
    "version": 3
   },
   "file_extension": ".py",
   "mimetype": "text/x-python",
   "name": "python",
   "nbconvert_exporter": "python",
   "pygments_lexer": "ipython3",
   "version": "3.7.4"
  }
 },
 "nbformat": 4,
 "nbformat_minor": 2
}
